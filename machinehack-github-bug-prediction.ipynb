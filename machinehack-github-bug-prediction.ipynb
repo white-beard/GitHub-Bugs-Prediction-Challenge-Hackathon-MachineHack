{
 "cells": [
  {
   "cell_type": "code",
   "execution_count": 1,
   "metadata": {
    "_cell_guid": "b1076dfc-b9ad-4769-8c92-a6c4dae69d19",
    "_uuid": "8f2839f25d086af736a60e9eeb907d3b93b6e0e5",
    "execution": {
     "iopub.execute_input": "2020-10-11T05:20:49.474518Z",
     "iopub.status.busy": "2020-10-11T05:20:49.473638Z",
     "iopub.status.idle": "2020-10-11T05:20:49.483828Z",
     "shell.execute_reply": "2020-10-11T05:20:49.482995Z"
    },
    "papermill": {
     "duration": 0.058419,
     "end_time": "2020-10-11T05:20:49.483971",
     "exception": false,
     "start_time": "2020-10-11T05:20:49.425552",
     "status": "completed"
    },
    "tags": []
   },
   "outputs": [
    {
     "name": "stdout",
     "output_type": "stream",
     "text": [
      "/kaggle/input/github-bugs-prediction-challenge-machine-hack/embold_train_extra.json\n",
      "/kaggle/input/github-bugs-prediction-challenge-machine-hack/embold_test.json\n",
      "/kaggle/input/github-bugs-prediction-challenge-machine-hack/embold_train.json\n",
      "/kaggle/input/github-bugs-prediction-challenge-machine-hack/sample submission.csv\n"
     ]
    }
   ],
   "source": [
    "# This Python 3 environment comes with many helpful analytics libraries installed\n",
    "# It is defined by the kaggle/python Docker image: https://github.com/kaggle/docker-python\n",
    "# For example, here's several helpful packages to load\n",
    "\n",
    "import numpy as np # linear algebra\n",
    "import pandas as pd # data processing, CSV file I/O (e.g. pd.read_csv)\n",
    "\n",
    "# Input data files are available in the read-only \"../input/\" directory\n",
    "# For example, running this (by clicking run or pressing Shift+Enter) will list all files under the input directory\n",
    "\n",
    "import os\n",
    "for dirname, _, filenames in os.walk('/kaggle/input'):\n",
    "    for filename in filenames:\n",
    "        print(os.path.join(dirname, filename))\n",
    "\n",
    "# You can write up to 5GB to the current directory (/kaggle/working/) that gets preserved as output when you create a version using \"Save & Run All\" \n",
    "# You can also write temporary files to /kaggle/temp/, but they won't be saved outside of the current session"
   ]
  },
  {
   "cell_type": "code",
   "execution_count": 2,
   "metadata": {
    "_cell_guid": "79c7e3d0-c299-4dcb-8224-4455121ee9b0",
    "_uuid": "d629ff2d2480ee46fbb7e2d37f6b5fab8052498a",
    "execution": {
     "iopub.execute_input": "2020-10-11T05:20:49.571662Z",
     "iopub.status.busy": "2020-10-11T05:20:49.570891Z",
     "iopub.status.idle": "2020-10-11T05:20:53.453415Z",
     "shell.execute_reply": "2020-10-11T05:20:53.452480Z"
    },
    "papermill": {
     "duration": 3.927924,
     "end_time": "2020-10-11T05:20:53.453560",
     "exception": false,
     "start_time": "2020-10-11T05:20:49.525636",
     "status": "completed"
    },
    "tags": []
   },
   "outputs": [],
   "source": [
    "train = pd.read_json('../input/github-bugs-prediction-challenge-machine-hack/embold_train.json')\n",
    "test = pd.read_json('../input/github-bugs-prediction-challenge-machine-hack/embold_test.json')\n",
    "train_extra =pd.read_json('../input/github-bugs-prediction-challenge-machine-hack/embold_train_extra.json')"
   ]
  },
  {
   "cell_type": "code",
   "execution_count": 3,
   "metadata": {
    "execution": {
     "iopub.execute_input": "2020-10-11T05:20:53.546632Z",
     "iopub.status.busy": "2020-10-11T05:20:53.545813Z",
     "iopub.status.idle": "2020-10-11T05:20:55.725145Z",
     "shell.execute_reply": "2020-10-11T05:20:55.726299Z"
    },
    "papermill": {
     "duration": 2.231386,
     "end_time": "2020-10-11T05:20:55.726627",
     "exception": false,
     "start_time": "2020-10-11T05:20:53.495241",
     "status": "completed"
    },
    "tags": []
   },
   "outputs": [],
   "source": [
    "import logging\n",
    "import pandas as pd\n",
    "import numpy as np\n",
    "from numpy import random\n",
    "import gensim\n",
    "import nltk\n",
    "from sklearn.model_selection import train_test_split\n",
    "from sklearn.feature_extraction.text import CountVectorizer, TfidfVectorizer\n",
    "from sklearn.metrics import accuracy_score, confusion_matrix\n",
    "import matplotlib.pyplot as plt\n",
    "from nltk.corpus import stopwords\n",
    "import re\n",
    "from bs4 import BeautifulSoup\n",
    "%matplotlib inline"
   ]
  },
  {
   "cell_type": "code",
   "execution_count": 4,
   "metadata": {
    "execution": {
     "iopub.execute_input": "2020-10-11T05:20:55.855262Z",
     "iopub.status.busy": "2020-10-11T05:20:55.853682Z",
     "iopub.status.idle": "2020-10-11T05:20:55.867784Z",
     "shell.execute_reply": "2020-10-11T05:20:55.869184Z"
    },
    "papermill": {
     "duration": 0.083932,
     "end_time": "2020-10-11T05:20:55.869382",
     "exception": false,
     "start_time": "2020-10-11T05:20:55.785450",
     "status": "completed"
    },
    "tags": []
   },
   "outputs": [
    {
     "name": "stdout",
     "output_type": "stream",
     "text": [
      "(150000, 3)\n",
      "(300000, 3)\n",
      "(30000, 2)\n"
     ]
    }
   ],
   "source": [
    "print(train.shape)\n",
    "print(train_extra.shape)\n",
    "print(test.shape)"
   ]
  },
  {
   "cell_type": "code",
   "execution_count": 5,
   "metadata": {
    "execution": {
     "iopub.execute_input": "2020-10-11T05:20:56.023890Z",
     "iopub.status.busy": "2020-10-11T05:20:56.023073Z",
     "iopub.status.idle": "2020-10-11T05:20:56.234950Z",
     "shell.execute_reply": "2020-10-11T05:20:56.234013Z"
    },
    "papermill": {
     "duration": 0.284959,
     "end_time": "2020-10-11T05:20:56.235074",
     "exception": false,
     "start_time": "2020-10-11T05:20:55.950115",
     "status": "completed"
    },
    "tags": []
   },
   "outputs": [
    {
     "data": {
      "image/png": "[encoded data removed]",
      "text/plain": [
       "<Figure size 720x288 with 1 Axes>"
      ]
     },
     "metadata": {
      "needs_background": "light"
     },
     "output_type": "display_data"
    }
   ],
   "source": [
    "\n",
    "plt.figure(figsize=(10,4))\n",
    "train.label.value_counts().plot(kind='bar');"
   ]
  },
  {
   "cell_type": "code",
   "execution_count": 6,
   "metadata": {
    "execution": {
     "iopub.execute_input": "2020-10-11T05:20:56.339776Z",
     "iopub.status.busy": "2020-10-11T05:20:56.338874Z",
     "iopub.status.idle": "2020-10-11T05:20:56.485628Z",
     "shell.execute_reply": "2020-10-11T05:20:56.486220Z"
    },
    "papermill": {
     "duration": 0.202324,
     "end_time": "2020-10-11T05:20:56.486513",
     "exception": false,
     "start_time": "2020-10-11T05:20:56.284189",
     "status": "completed"
    },
    "tags": []
   },
   "outputs": [
    {
     "data": {
      "image/png": "[encoded data removed]",
      "text/plain": [
       "<Figure size 720x288 with 1 Axes>"
      ]
     },
     "metadata": {
      "needs_background": "light"
     },
     "output_type": "display_data"
    }
   ],
   "source": [
    "plt.figure(figsize=(10,4))\n",
    "train_extra.label.value_counts().plot(kind='bar');"
   ]
  },
  {
   "cell_type": "code",
   "execution_count": 7,
   "metadata": {
    "execution": {
     "iopub.execute_input": "2020-10-11T05:20:56.588158Z",
     "iopub.status.busy": "2020-10-11T05:20:56.587200Z",
     "iopub.status.idle": "2020-10-11T05:20:56.598074Z",
     "shell.execute_reply": "2020-10-11T05:20:56.597172Z"
    },
    "papermill": {
     "duration": 0.06111,
     "end_time": "2020-10-11T05:20:56.598194",
     "exception": false,
     "start_time": "2020-10-11T05:20:56.537084",
     "status": "completed"
    },
    "tags": []
   },
   "outputs": [],
   "source": [
    "train_extra2 = train_extra.loc[train_extra['label'] == 2]"
   ]
  },
  {
   "cell_type": "code",
   "execution_count": 8,
   "metadata": {
    "execution": {
     "iopub.execute_input": "2020-10-11T05:20:56.697967Z",
     "iopub.status.busy": "2020-10-11T05:20:56.696990Z",
     "iopub.status.idle": "2020-10-11T05:20:56.705930Z",
     "shell.execute_reply": "2020-10-11T05:20:56.706617Z"
    },
    "papermill": {
     "duration": 0.06277,
     "end_time": "2020-10-11T05:20:56.706758",
     "exception": false,
     "start_time": "2020-10-11T05:20:56.643988",
     "status": "completed"
    },
    "tags": []
   },
   "outputs": [
    {
     "data": {
      "text/html": [
       "<div>\n",
       "<style scoped>\n",
       "    .dataframe tbody tr th:only-of-type {\n",
       "        vertical-align: middle;\n",
       "    }\n",
       "\n",
       "    .dataframe tbody tr th {\n",
       "        vertical-align: top;\n",
       "    }\n",
       "\n",
       "    .dataframe thead th {\n",
       "        text-align: right;\n",
       "    }\n",
       "</style>\n",
       "<table border=\"1\" class=\"dataframe\">\n",
       "  <thead>\n",
       "    <tr style=\"text-align: right;\">\n",
       "      <th></th>\n",
       "      <th>title</th>\n",
       "      <th>body</th>\n",
       "      <th>label</th>\n",
       "    </tr>\n",
       "  </thead>\n",
       "  <tbody>\n",
       "    <tr>\n",
       "      <th>0</th>\n",
       "      <td>use a 8bit typeface</td>\n",
       "      <td>since this is meant to emulate some old arcade...</td>\n",
       "      <td>1</td>\n",
       "    </tr>\n",
       "    <tr>\n",
       "      <th>1</th>\n",
       "      <td>implement wireless m-bus binding</td>\n",
       "      <td>_from  chris.pa...@googlemail.com  https://cod...</td>\n",
       "      <td>1</td>\n",
       "    </tr>\n",
       "    <tr>\n",
       "      <th>2</th>\n",
       "      <td>add multilang support for timeago.js</td>\n",
       "      <td>currently it is only  en . \\r required to add ...</td>\n",
       "      <td>1</td>\n",
       "    </tr>\n",
       "    <tr>\n",
       "      <th>3</th>\n",
       "      <td>scaleway - seg-fault on shutdown</td>\n",
       "      <td>tbr  irc  creates a new scaleway instance with...</td>\n",
       "      <td>0</td>\n",
       "    </tr>\n",
       "    <tr>\n",
       "      <th>4</th>\n",
       "      <td>sistema de pintura: no se guardar los nuevos p...</td>\n",
       "      <td>este sp ya estaba asignado a un carro y se enc...</td>\n",
       "      <td>0</td>\n",
       "    </tr>\n",
       "  </tbody>\n",
       "</table>\n",
       "</div>"
      ],
      "text/plain": [
       "                                               title  \\\n",
       "0                                use a 8bit typeface   \n",
       "1                   implement wireless m-bus binding   \n",
       "2               add multilang support for timeago.js   \n",
       "3                   scaleway - seg-fault on shutdown   \n",
       "4  sistema de pintura: no se guardar los nuevos p...   \n",
       "\n",
       "                                                body  label  \n",
       "0  since this is meant to emulate some old arcade...      1  \n",
       "1  _from  chris.pa...@googlemail.com  https://cod...      1  \n",
       "2  currently it is only  en . \\r required to add ...      1  \n",
       "3  tbr  irc  creates a new scaleway instance with...      0  \n",
       "4  este sp ya estaba asignado a un carro y se enc...      0  "
      ]
     },
     "execution_count": 8,
     "metadata": {},
     "output_type": "execute_result"
    }
   ],
   "source": [
    "train_extra.head()"
   ]
  },
  {
   "cell_type": "code",
   "execution_count": 9,
   "metadata": {
    "execution": {
     "iopub.execute_input": "2020-10-11T05:20:56.806415Z",
     "iopub.status.busy": "2020-10-11T05:20:56.805343Z",
     "iopub.status.idle": "2020-10-11T05:20:56.808868Z",
     "shell.execute_reply": "2020-10-11T05:20:56.807111Z"
    },
    "papermill": {
     "duration": 0.05691,
     "end_time": "2020-10-11T05:20:56.808980",
     "exception": false,
     "start_time": "2020-10-11T05:20:56.752070",
     "status": "completed"
    },
    "tags": []
   },
   "outputs": [
    {
     "data": {
      "text/plain": [
       "(300000, 3)"
      ]
     },
     "execution_count": 9,
     "metadata": {},
     "output_type": "execute_result"
    }
   ],
   "source": [
    "train_extra.shape"
   ]
  },
  {
   "cell_type": "code",
   "execution_count": 10,
   "metadata": {
    "execution": {
     "iopub.execute_input": "2020-10-11T05:20:56.915614Z",
     "iopub.status.busy": "2020-10-11T05:20:56.914717Z",
     "iopub.status.idle": "2020-10-11T05:20:56.918859Z",
     "shell.execute_reply": "2020-10-11T05:20:56.919431Z"
    },
    "papermill": {
     "duration": 0.063233,
     "end_time": "2020-10-11T05:20:56.919554",
     "exception": false,
     "start_time": "2020-10-11T05:20:56.856321",
     "status": "completed"
    },
    "tags": []
   },
   "outputs": [
    {
     "data": {
      "text/html": [
       "<div>\n",
       "<style scoped>\n",
       "    .dataframe tbody tr th:only-of-type {\n",
       "        vertical-align: middle;\n",
       "    }\n",
       "\n",
       "    .dataframe tbody tr th {\n",
       "        vertical-align: top;\n",
       "    }\n",
       "\n",
       "    .dataframe thead th {\n",
       "        text-align: right;\n",
       "    }\n",
       "</style>\n",
       "<table border=\"1\" class=\"dataframe\">\n",
       "  <thead>\n",
       "    <tr style=\"text-align: right;\">\n",
       "      <th></th>\n",
       "      <th>title</th>\n",
       "      <th>body</th>\n",
       "      <th>label</th>\n",
       "    </tr>\n",
       "  </thead>\n",
       "  <tbody>\n",
       "    <tr>\n",
       "      <th>149995</th>\n",
       "      <td>suggestion   getinventorylist should return ra...</td>\n",
       "      <td>&lt;!-- note: anything within these brackets will...</td>\n",
       "      <td>1</td>\n",
       "    </tr>\n",
       "    <tr>\n",
       "      <th>149996</th>\n",
       "      <td>decoder displays some neurovault images incorr...</td>\n",
       "      <td>as noted by @nicholst, some neurovault images ...</td>\n",
       "      <td>0</td>\n",
       "    </tr>\n",
       "    <tr>\n",
       "      <th>149997</th>\n",
       "      <td>parser should return an error, not an exception</td>\n",
       "      <td>for this raml:\\r \\r    yaml\\r  %raml 1.0\\r tit...</td>\n",
       "      <td>0</td>\n",
       "    </tr>\n",
       "    <tr>\n",
       "      <th>149998</th>\n",
       "      <td>errorexception  array to string conversion on ...</td>\n",
       "      <td>see above.\\r \\r occurs in branch   routes  .</td>\n",
       "      <td>0</td>\n",
       "    </tr>\n",
       "    <tr>\n",
       "      <th>149999</th>\n",
       "      <td>ignore headings in code sections</td>\n",
       "      <td>do not process headings inside quotes and code...</td>\n",
       "      <td>0</td>\n",
       "    </tr>\n",
       "  </tbody>\n",
       "</table>\n",
       "</div>"
      ],
      "text/plain": [
       "                                                    title  \\\n",
       "149995  suggestion   getinventorylist should return ra...   \n",
       "149996  decoder displays some neurovault images incorr...   \n",
       "149997    parser should return an error, not an exception   \n",
       "149998  errorexception  array to string conversion on ...   \n",
       "149999                   ignore headings in code sections   \n",
       "\n",
       "                                                     body  label  \n",
       "149995  <!-- note: anything within these brackets will...      1  \n",
       "149996  as noted by @nicholst, some neurovault images ...      0  \n",
       "149997  for this raml:\\r \\r    yaml\\r  %raml 1.0\\r tit...      0  \n",
       "149998       see above.\\r \\r occurs in branch   routes  .      0  \n",
       "149999  do not process headings inside quotes and code...      0  "
      ]
     },
     "execution_count": 10,
     "metadata": {},
     "output_type": "execute_result"
    }
   ],
   "source": [
    "train.tail()"
   ]
  },
  {
   "cell_type": "code",
   "execution_count": 11,
   "metadata": {
    "execution": {
     "iopub.execute_input": "2020-10-11T05:20:57.022538Z",
     "iopub.status.busy": "2020-10-11T05:20:57.021279Z",
     "iopub.status.idle": "2020-10-11T05:20:57.026700Z",
     "shell.execute_reply": "2020-10-11T05:20:57.027248Z"
    },
    "papermill": {
     "duration": 0.061904,
     "end_time": "2020-10-11T05:20:57.027418",
     "exception": false,
     "start_time": "2020-10-11T05:20:56.965514",
     "status": "completed"
    },
    "tags": []
   },
   "outputs": [
    {
     "data": {
      "text/html": [
       "<div>\n",
       "<style scoped>\n",
       "    .dataframe tbody tr th:only-of-type {\n",
       "        vertical-align: middle;\n",
       "    }\n",
       "\n",
       "    .dataframe tbody tr th {\n",
       "        vertical-align: top;\n",
       "    }\n",
       "\n",
       "    .dataframe thead th {\n",
       "        text-align: right;\n",
       "    }\n",
       "</style>\n",
       "<table border=\"1\" class=\"dataframe\">\n",
       "  <thead>\n",
       "    <tr style=\"text-align: right;\">\n",
       "      <th></th>\n",
       "      <th>title</th>\n",
       "      <th>body</th>\n",
       "      <th>label</th>\n",
       "    </tr>\n",
       "  </thead>\n",
       "  <tbody>\n",
       "    <tr>\n",
       "      <th>299995</th>\n",
       "      <td>shield against invalid dates</td>\n",
       "      <td>makes'em crash the renderer for now :|\\r \\r da...</td>\n",
       "      <td>0</td>\n",
       "    </tr>\n",
       "    <tr>\n",
       "      <th>299996</th>\n",
       "      <td>fix the knight</td>\n",
       "      <td>seriously, if you do just one thing this week...</td>\n",
       "      <td>0</td>\n",
       "    </tr>\n",
       "    <tr>\n",
       "      <th>299997</th>\n",
       "      <td>portaudio playback binding crashes often, ubun...</td>\n",
       "      <td>appear to be very unstable. relates to  17</td>\n",
       "      <td>0</td>\n",
       "    </tr>\n",
       "    <tr>\n",
       "      <th>299998</th>\n",
       "      <td>add --db-path option for allowing user to spec...</td>\n",
       "      <td>add  --db-path  option with default value as  ...</td>\n",
       "      <td>1</td>\n",
       "    </tr>\n",
       "    <tr>\n",
       "      <th>299999</th>\n",
       "      <td>staff users cannot log in to admin</td>\n",
       "      <td>i added admire as a staff user but he cannot l...</td>\n",
       "      <td>0</td>\n",
       "    </tr>\n",
       "  </tbody>\n",
       "</table>\n",
       "</div>"
      ],
      "text/plain": [
       "                                                    title  \\\n",
       "299995                       shield against invalid dates   \n",
       "299996                                     fix the knight   \n",
       "299997  portaudio playback binding crashes often, ubun...   \n",
       "299998  add --db-path option for allowing user to spec...   \n",
       "299999                 staff users cannot log in to admin   \n",
       "\n",
       "                                                     body  label  \n",
       "299995  makes'em crash the renderer for now :|\\r \\r da...      0  \n",
       "299996   seriously, if you do just one thing this week...      0  \n",
       "299997         appear to be very unstable. relates to  17      0  \n",
       "299998  add  --db-path  option with default value as  ...      1  \n",
       "299999  i added admire as a staff user but he cannot l...      0  "
      ]
     },
     "execution_count": 11,
     "metadata": {},
     "output_type": "execute_result"
    }
   ],
   "source": [
    "train_extra.tail()"
   ]
  },
  {
   "cell_type": "code",
   "execution_count": 12,
   "metadata": {
    "execution": {
     "iopub.execute_input": "2020-10-11T05:20:57.132006Z",
     "iopub.status.busy": "2020-10-11T05:20:57.131031Z",
     "iopub.status.idle": "2020-10-11T05:20:57.156642Z",
     "shell.execute_reply": "2020-10-11T05:20:57.155977Z"
    },
    "papermill": {
     "duration": 0.081025,
     "end_time": "2020-10-11T05:20:57.156772",
     "exception": false,
     "start_time": "2020-10-11T05:20:57.075747",
     "status": "completed"
    },
    "tags": []
   },
   "outputs": [],
   "source": [
    "frames = [train,train_extra]\n",
    "train_new = pd.concat([train,train_extra],ignore_index=True)"
   ]
  },
  {
   "cell_type": "code",
   "execution_count": 13,
   "metadata": {
    "execution": {
     "iopub.execute_input": "2020-10-11T05:20:57.267696Z",
     "iopub.status.busy": "2020-10-11T05:20:57.266177Z",
     "iopub.status.idle": "2020-10-11T05:20:57.270220Z",
     "shell.execute_reply": "2020-10-11T05:20:57.270869Z"
    },
    "papermill": {
     "duration": 0.065045,
     "end_time": "2020-10-11T05:20:57.271021",
     "exception": false,
     "start_time": "2020-10-11T05:20:57.205976",
     "status": "completed"
    },
    "tags": []
   },
   "outputs": [
    {
     "data": {
      "text/html": [
       "<div>\n",
       "<style scoped>\n",
       "    .dataframe tbody tr th:only-of-type {\n",
       "        vertical-align: middle;\n",
       "    }\n",
       "\n",
       "    .dataframe tbody tr th {\n",
       "        vertical-align: top;\n",
       "    }\n",
       "\n",
       "    .dataframe thead th {\n",
       "        text-align: right;\n",
       "    }\n",
       "</style>\n",
       "<table border=\"1\" class=\"dataframe\">\n",
       "  <thead>\n",
       "    <tr style=\"text-align: right;\">\n",
       "      <th></th>\n",
       "      <th>title</th>\n",
       "      <th>body</th>\n",
       "      <th>label</th>\n",
       "    </tr>\n",
       "  </thead>\n",
       "  <tbody>\n",
       "    <tr>\n",
       "      <th>0</th>\n",
       "      <td>y-zoom piano roll</td>\n",
       "      <td>a y-zoom on the piano roll would be useful.</td>\n",
       "      <td>1</td>\n",
       "    </tr>\n",
       "    <tr>\n",
       "      <th>1</th>\n",
       "      <td>buggy behavior in selection</td>\n",
       "      <td>! screenshot from 2016-02-23 21 27 40  https:/...</td>\n",
       "      <td>0</td>\n",
       "    </tr>\n",
       "    <tr>\n",
       "      <th>2</th>\n",
       "      <td>auto update feature</td>\n",
       "      <td>hi,\\r \\r great job so far, @saenzramiro ! : \\r...</td>\n",
       "      <td>1</td>\n",
       "    </tr>\n",
       "    <tr>\n",
       "      <th>3</th>\n",
       "      <td>filter out noisy endpoints in logs</td>\n",
       "      <td>i think we should stop logging requests to:\\r ...</td>\n",
       "      <td>1</td>\n",
       "    </tr>\n",
       "    <tr>\n",
       "      <th>4</th>\n",
       "      <td>enable pid on / pid off alarm actions for ardu...</td>\n",
       "      <td>expected behavior\\r alarm actions pid on and p...</td>\n",
       "      <td>0</td>\n",
       "    </tr>\n",
       "  </tbody>\n",
       "</table>\n",
       "</div>"
      ],
      "text/plain": [
       "                                               title  \\\n",
       "0                                  y-zoom piano roll   \n",
       "1                        buggy behavior in selection   \n",
       "2                                auto update feature   \n",
       "3                 filter out noisy endpoints in logs   \n",
       "4  enable pid on / pid off alarm actions for ardu...   \n",
       "\n",
       "                                                body  label  \n",
       "0        a y-zoom on the piano roll would be useful.      1  \n",
       "1  ! screenshot from 2016-02-23 21 27 40  https:/...      0  \n",
       "2  hi,\\r \\r great job so far, @saenzramiro ! : \\r...      1  \n",
       "3  i think we should stop logging requests to:\\r ...      1  \n",
       "4  expected behavior\\r alarm actions pid on and p...      0  "
      ]
     },
     "execution_count": 13,
     "metadata": {},
     "output_type": "execute_result"
    }
   ],
   "source": [
    "train_new.head()"
   ]
  },
  {
   "cell_type": "code",
   "execution_count": 14,
   "metadata": {
    "execution": {
     "iopub.execute_input": "2020-10-11T05:20:57.380919Z",
     "iopub.status.busy": "2020-10-11T05:20:57.380090Z",
     "iopub.status.idle": "2020-10-11T05:20:57.385906Z",
     "shell.execute_reply": "2020-10-11T05:20:57.385440Z"
    },
    "papermill": {
     "duration": 0.064503,
     "end_time": "2020-10-11T05:20:57.386006",
     "exception": false,
     "start_time": "2020-10-11T05:20:57.321503",
     "status": "completed"
    },
    "tags": []
   },
   "outputs": [
    {
     "data": {
      "text/html": [
       "<div>\n",
       "<style scoped>\n",
       "    .dataframe tbody tr th:only-of-type {\n",
       "        vertical-align: middle;\n",
       "    }\n",
       "\n",
       "    .dataframe tbody tr th {\n",
       "        vertical-align: top;\n",
       "    }\n",
       "\n",
       "    .dataframe thead th {\n",
       "        text-align: right;\n",
       "    }\n",
       "</style>\n",
       "<table border=\"1\" class=\"dataframe\">\n",
       "  <thead>\n",
       "    <tr style=\"text-align: right;\">\n",
       "      <th></th>\n",
       "      <th>title</th>\n",
       "      <th>body</th>\n",
       "      <th>label</th>\n",
       "    </tr>\n",
       "  </thead>\n",
       "  <tbody>\n",
       "    <tr>\n",
       "      <th>449995</th>\n",
       "      <td>shield against invalid dates</td>\n",
       "      <td>makes'em crash the renderer for now :|\\r \\r da...</td>\n",
       "      <td>0</td>\n",
       "    </tr>\n",
       "    <tr>\n",
       "      <th>449996</th>\n",
       "      <td>fix the knight</td>\n",
       "      <td>seriously, if you do just one thing this week...</td>\n",
       "      <td>0</td>\n",
       "    </tr>\n",
       "    <tr>\n",
       "      <th>449997</th>\n",
       "      <td>portaudio playback binding crashes often, ubun...</td>\n",
       "      <td>appear to be very unstable. relates to  17</td>\n",
       "      <td>0</td>\n",
       "    </tr>\n",
       "    <tr>\n",
       "      <th>449998</th>\n",
       "      <td>add --db-path option for allowing user to spec...</td>\n",
       "      <td>add  --db-path  option with default value as  ...</td>\n",
       "      <td>1</td>\n",
       "    </tr>\n",
       "    <tr>\n",
       "      <th>449999</th>\n",
       "      <td>staff users cannot log in to admin</td>\n",
       "      <td>i added admire as a staff user but he cannot l...</td>\n",
       "      <td>0</td>\n",
       "    </tr>\n",
       "  </tbody>\n",
       "</table>\n",
       "</div>"
      ],
      "text/plain": [
       "                                                    title  \\\n",
       "449995                       shield against invalid dates   \n",
       "449996                                     fix the knight   \n",
       "449997  portaudio playback binding crashes often, ubun...   \n",
       "449998  add --db-path option for allowing user to spec...   \n",
       "449999                 staff users cannot log in to admin   \n",
       "\n",
       "                                                     body  label  \n",
       "449995  makes'em crash the renderer for now :|\\r \\r da...      0  \n",
       "449996   seriously, if you do just one thing this week...      0  \n",
       "449997         appear to be very unstable. relates to  17      0  \n",
       "449998  add  --db-path  option with default value as  ...      1  \n",
       "449999  i added admire as a staff user but he cannot l...      0  "
      ]
     },
     "execution_count": 14,
     "metadata": {},
     "output_type": "execute_result"
    }
   ],
   "source": [
    "train_new.tail()"
   ]
  },
  {
   "cell_type": "code",
   "execution_count": 15,
   "metadata": {
    "execution": {
     "iopub.execute_input": "2020-10-11T05:20:57.488848Z",
     "iopub.status.busy": "2020-10-11T05:20:57.487989Z",
     "iopub.status.idle": "2020-10-11T05:20:57.493804Z",
     "shell.execute_reply": "2020-10-11T05:20:57.493209Z"
    },
    "papermill": {
     "duration": 0.059706,
     "end_time": "2020-10-11T05:20:57.493913",
     "exception": false,
     "start_time": "2020-10-11T05:20:57.434207",
     "status": "completed"
    },
    "tags": []
   },
   "outputs": [
    {
     "data": {
      "text/plain": [
       "(450000, 3)"
      ]
     },
     "execution_count": 15,
     "metadata": {},
     "output_type": "execute_result"
    }
   ],
   "source": [
    "train_new.shape"
   ]
  },
  {
   "cell_type": "code",
   "execution_count": 16,
   "metadata": {
    "execution": {
     "iopub.execute_input": "2020-10-11T05:20:57.608376Z",
     "iopub.status.busy": "2020-10-11T05:20:57.607618Z",
     "iopub.status.idle": "2020-10-11T05:20:57.612481Z",
     "shell.execute_reply": "2020-10-11T05:20:57.611917Z"
    },
    "papermill": {
     "duration": 0.069679,
     "end_time": "2020-10-11T05:20:57.612617",
     "exception": false,
     "start_time": "2020-10-11T05:20:57.542938",
     "status": "completed"
    },
    "tags": []
   },
   "outputs": [
    {
     "data": {
      "text/html": [
       "<div>\n",
       "<style scoped>\n",
       "    .dataframe tbody tr th:only-of-type {\n",
       "        vertical-align: middle;\n",
       "    }\n",
       "\n",
       "    .dataframe tbody tr th {\n",
       "        vertical-align: top;\n",
       "    }\n",
       "\n",
       "    .dataframe thead th {\n",
       "        text-align: right;\n",
       "    }\n",
       "</style>\n",
       "<table border=\"1\" class=\"dataframe\">\n",
       "  <thead>\n",
       "    <tr style=\"text-align: right;\">\n",
       "      <th></th>\n",
       "      <th>title</th>\n",
       "      <th>body</th>\n",
       "      <th>label</th>\n",
       "    </tr>\n",
       "  </thead>\n",
       "  <tbody>\n",
       "    <tr>\n",
       "      <th>0</th>\n",
       "      <td>y-zoom piano roll</td>\n",
       "      <td>a y-zoom on the piano roll would be useful.</td>\n",
       "      <td>1</td>\n",
       "    </tr>\n",
       "    <tr>\n",
       "      <th>1</th>\n",
       "      <td>buggy behavior in selection</td>\n",
       "      <td>! screenshot from 2016-02-23 21 27 40  https:/...</td>\n",
       "      <td>0</td>\n",
       "    </tr>\n",
       "    <tr>\n",
       "      <th>2</th>\n",
       "      <td>auto update feature</td>\n",
       "      <td>hi,\\r \\r great job so far, @saenzramiro ! : \\r...</td>\n",
       "      <td>1</td>\n",
       "    </tr>\n",
       "    <tr>\n",
       "      <th>3</th>\n",
       "      <td>filter out noisy endpoints in logs</td>\n",
       "      <td>i think we should stop logging requests to:\\r ...</td>\n",
       "      <td>1</td>\n",
       "    </tr>\n",
       "    <tr>\n",
       "      <th>4</th>\n",
       "      <td>enable pid on / pid off alarm actions for ardu...</td>\n",
       "      <td>expected behavior\\r alarm actions pid on and p...</td>\n",
       "      <td>0</td>\n",
       "    </tr>\n",
       "    <tr>\n",
       "      <th>...</th>\n",
       "      <td>...</td>\n",
       "      <td>...</td>\n",
       "      <td>...</td>\n",
       "    </tr>\n",
       "    <tr>\n",
       "      <th>449995</th>\n",
       "      <td>shield against invalid dates</td>\n",
       "      <td>makes'em crash the renderer for now :|\\r \\r da...</td>\n",
       "      <td>0</td>\n",
       "    </tr>\n",
       "    <tr>\n",
       "      <th>449996</th>\n",
       "      <td>fix the knight</td>\n",
       "      <td>seriously, if you do just one thing this week...</td>\n",
       "      <td>0</td>\n",
       "    </tr>\n",
       "    <tr>\n",
       "      <th>449997</th>\n",
       "      <td>portaudio playback binding crashes often, ubun...</td>\n",
       "      <td>appear to be very unstable. relates to  17</td>\n",
       "      <td>0</td>\n",
       "    </tr>\n",
       "    <tr>\n",
       "      <th>449998</th>\n",
       "      <td>add --db-path option for allowing user to spec...</td>\n",
       "      <td>add  --db-path  option with default value as  ...</td>\n",
       "      <td>1</td>\n",
       "    </tr>\n",
       "    <tr>\n",
       "      <th>449999</th>\n",
       "      <td>staff users cannot log in to admin</td>\n",
       "      <td>i added admire as a staff user but he cannot l...</td>\n",
       "      <td>0</td>\n",
       "    </tr>\n",
       "  </tbody>\n",
       "</table>\n",
       "<p>450000 rows × 3 columns</p>\n",
       "</div>"
      ],
      "text/plain": [
       "                                                    title  \\\n",
       "0                                       y-zoom piano roll   \n",
       "1                             buggy behavior in selection   \n",
       "2                                     auto update feature   \n",
       "3                      filter out noisy endpoints in logs   \n",
       "4       enable pid on / pid off alarm actions for ardu...   \n",
       "...                                                   ...   \n",
       "449995                       shield against invalid dates   \n",
       "449996                                     fix the knight   \n",
       "449997  portaudio playback binding crashes often, ubun...   \n",
       "449998  add --db-path option for allowing user to spec...   \n",
       "449999                 staff users cannot log in to admin   \n",
       "\n",
       "                                                     body  label  \n",
       "0             a y-zoom on the piano roll would be useful.      1  \n",
       "1       ! screenshot from 2016-02-23 21 27 40  https:/...      0  \n",
       "2       hi,\\r \\r great job so far, @saenzramiro ! : \\r...      1  \n",
       "3       i think we should stop logging requests to:\\r ...      1  \n",
       "4       expected behavior\\r alarm actions pid on and p...      0  \n",
       "...                                                   ...    ...  \n",
       "449995  makes'em crash the renderer for now :|\\r \\r da...      0  \n",
       "449996   seriously, if you do just one thing this week...      0  \n",
       "449997         appear to be very unstable. relates to  17      0  \n",
       "449998  add  --db-path  option with default value as  ...      1  \n",
       "449999  i added admire as a staff user but he cannot l...      0  \n",
       "\n",
       "[450000 rows x 3 columns]"
      ]
     },
     "execution_count": 16,
     "metadata": {},
     "output_type": "execute_result"
    }
   ],
   "source": [
    "train_new"
   ]
  },
  {
   "cell_type": "code",
   "execution_count": 17,
   "metadata": {
    "execution": {
     "iopub.execute_input": "2020-10-11T05:20:57.716477Z",
     "iopub.status.busy": "2020-10-11T05:20:57.715537Z",
     "iopub.status.idle": "2020-10-11T05:20:57.726288Z",
     "shell.execute_reply": "2020-10-11T05:20:57.725675Z"
    },
    "papermill": {
     "duration": 0.063811,
     "end_time": "2020-10-11T05:20:57.726407",
     "exception": false,
     "start_time": "2020-10-11T05:20:57.662596",
     "status": "completed"
    },
    "tags": []
   },
   "outputs": [
    {
     "data": {
      "text/plain": [
       "1    207318\n",
       "0    200481\n",
       "2     42201\n",
       "Name: label, dtype: int64"
      ]
     },
     "execution_count": 17,
     "metadata": {},
     "output_type": "execute_result"
    }
   ],
   "source": [
    "train_new.label.value_counts()"
   ]
  },
  {
   "cell_type": "code",
   "execution_count": 18,
   "metadata": {
    "execution": {
     "iopub.execute_input": "2020-10-11T05:20:57.831408Z",
     "iopub.status.busy": "2020-10-11T05:20:57.830694Z",
     "iopub.status.idle": "2020-10-11T05:20:57.834891Z",
     "shell.execute_reply": "2020-10-11T05:20:57.835327Z"
    },
    "papermill": {
     "duration": 0.058642,
     "end_time": "2020-10-11T05:20:57.835472",
     "exception": false,
     "start_time": "2020-10-11T05:20:57.776830",
     "status": "completed"
    },
    "tags": []
   },
   "outputs": [],
   "source": [
    "y = train_new.label"
   ]
  },
  {
   "cell_type": "code",
   "execution_count": 19,
   "metadata": {
    "execution": {
     "iopub.execute_input": "2020-10-11T05:20:57.944852Z",
     "iopub.status.busy": "2020-10-11T05:20:57.943395Z",
     "iopub.status.idle": "2020-10-11T05:20:57.947711Z",
     "shell.execute_reply": "2020-10-11T05:20:57.948278Z"
    },
    "papermill": {
     "duration": 0.062124,
     "end_time": "2020-10-11T05:20:57.948467",
     "exception": false,
     "start_time": "2020-10-11T05:20:57.886343",
     "status": "completed"
    },
    "tags": []
   },
   "outputs": [
    {
     "data": {
      "text/plain": [
       "0    1\n",
       "1    0\n",
       "2    1\n",
       "3    1\n",
       "4    0\n",
       "Name: label, dtype: int64"
      ]
     },
     "execution_count": 19,
     "metadata": {},
     "output_type": "execute_result"
    }
   ],
   "source": [
    "y.head()"
   ]
  },
  {
   "cell_type": "code",
   "execution_count": 20,
   "metadata": {
    "execution": {
     "iopub.execute_input": "2020-10-11T05:20:58.054707Z",
     "iopub.status.busy": "2020-10-11T05:20:58.053735Z",
     "iopub.status.idle": "2020-10-11T05:20:58.196663Z",
     "shell.execute_reply": "2020-10-11T05:20:58.197202Z"
    },
    "papermill": {
     "duration": 0.198942,
     "end_time": "2020-10-11T05:20:58.197368",
     "exception": false,
     "start_time": "2020-10-11T05:20:57.998426",
     "status": "completed"
    },
    "tags": []
   },
   "outputs": [
    {
     "data": {
      "image/png": "[encoded data removed]",
      "text/plain": [
       "<Figure size 720x288 with 1 Axes>"
      ]
     },
     "metadata": {
      "needs_background": "light"
     },
     "output_type": "display_data"
    }
   ],
   "source": [
    "plt.figure(figsize=(10,4))\n",
    "train_new.label.value_counts().plot(kind='bar');"
   ]
  },
  {
   "cell_type": "code",
   "execution_count": null,
   "metadata": {
    "papermill": {
     "duration": 0.058803,
     "end_time": "2020-10-11T05:20:58.312442",
     "exception": false,
     "start_time": "2020-10-11T05:20:58.253639",
     "status": "completed"
    },
    "tags": []
   },
   "outputs": [],
   "source": []
  },
  {
   "cell_type": "code",
   "execution_count": 21,
   "metadata": {
    "execution": {
     "iopub.execute_input": "2020-10-11T05:20:58.440866Z",
     "iopub.status.busy": "2020-10-11T05:20:58.439610Z",
     "iopub.status.idle": "2020-10-11T05:20:58.450617Z",
     "shell.execute_reply": "2020-10-11T05:20:58.451346Z"
    },
    "papermill": {
     "duration": 0.079155,
     "end_time": "2020-10-11T05:20:58.451538",
     "exception": false,
     "start_time": "2020-10-11T05:20:58.372383",
     "status": "completed"
    },
    "tags": []
   },
   "outputs": [
    {
     "name": "stdout",
     "output_type": "stream",
     "text": [
      "launcher: check results against training data\n",
      "Tag: we want to be able to run a suite of algorithms against training data that has been split into training and validation sets, then we want to be able to see the potential results we will get. this task comprises that whole pipeline.\n"
     ]
    }
   ],
   "source": [
    "def print_plot(index):\n",
    "    example = train_new[train_new.index == index][['title', 'body', \"label\"]].values[0]\n",
    "    if len(example) > 0:\n",
    "        print(example[0])\n",
    "        print('Tag:', example[1])\n",
    "\n",
    "print_plot(10)"
   ]
  },
  {
   "cell_type": "code",
   "execution_count": 22,
   "metadata": {
    "execution": {
     "iopub.execute_input": "2020-10-11T05:20:58.580636Z",
     "iopub.status.busy": "2020-10-11T05:20:58.579433Z",
     "iopub.status.idle": "2020-10-11T05:20:58.587043Z",
     "shell.execute_reply": "2020-10-11T05:20:58.586379Z"
    },
    "papermill": {
     "duration": 0.075889,
     "end_time": "2020-10-11T05:20:58.587149",
     "exception": false,
     "start_time": "2020-10-11T05:20:58.511260",
     "status": "completed"
    },
    "tags": []
   },
   "outputs": [
    {
     "name": "stdout",
     "output_type": "stream",
     "text": [
      "step panics if source file isn't found in .debug_line\n",
      "Tag: please answer the following before submitting your issue:\\r \\r note: please include any substantial examples  debug session output,\\r stacktraces, etc  as linked gists.\\r \\r 1. what version of delve are you using   dlv version  ? the latest one from the master.\\r 2. what version of go are you using?   go version  ? 1.7.1\\r 3. what operating system and processor architecture are you using?\\r 4. what did you do?\\r \\r    go\\r package main\\r \\r import \\ fmt\\ \\r \\r func main   {\\r \\tfmt.println \\ adssd\\   // put a breakpoint here\\r }\\r    \\r \\r and step into until you'll get the exception.\\r \\r 5. what did you expect to see?\\r \\r 6. what did you see instead?\\r \\r    \\r panic: runtime error: invalid memory address or nil pointer dereference\\r  signal sigsegv: segmentation violation code=0x1 addr=0x28 pc=0x42caf41 \\r \\r goroutine 43  running :\\r panic 0x44a8000, 0xc4200140a0 \\r \\t/users/builduser/buildagent/work/d46533bce70e485f/go/src/runtime/panic.go:500 +0x1a1\\r github.com/derekparker/delve/dwarf/line.  debuglines .allpcsbetween 0xc42008bed8, 0x7ca90, 0x7ca94, 0x0, 0x0, 0x1, 0x1, 0x0 \\r \\t/users/builduser/buildagent/work/d46533bce70e485f/gopath/src/github.com/derekparker/delve/dwarf/line/state_machine.go:114 +0xb1\\r github.com/derekparker/delve/proc.  process .next 0xc42008be60, 0xc420122601, 0x27290, 0xc42008d1b8 \\r \\t/users/builduser/buildagent/work/d46533bce70e485f/gopath/src/github.com/derekparker/delve/proc/threads.go:236 +0x597\\r github.com/derekparker/delve/proc.  process .step 0xc42008be60, 0x1, 0x1 \\r \\t/users/builduser/buildagent/work/d46533bce70e485f/gopath/src/github.com/derekparker/delve/proc/proc.go:454 +0xfe\\r github.com/derekparker/delve/service/debugger.  debugger .command 0xc4200dd800, 0xc4207d1b48, 0x0, 0x0, 0x0 \\r \\t/users/builduser/buildagent/work/d46533bce70e485f/gopath/src/github.com/derekparker/delve/service/debugger/debugger.go:421 +0x515\\r github.com/derekparker/delve/service/rpc2.  rpcserver .command 0xc4201981d0, 0xc4207059b8, 0x4, 0x0, 0x0, 0x4d1faf0, 0xc4201a9540 \\r \\t/users/builduser/buildagent/work/d46533bce70e485f/gopath/src/github.com/derekparker/delve/service/rpc2/server.go:85 +0x51\\r reflect.value.call 0xc420244b40, 0xc420132330, 0x13, 0x4527879, 0x4, 0xc420534050, 0x3, 0x3, 0x339, 0x745d9, ... \\r \\t/users/builduser/buildagent/work/d46533bce70e485f/go/src/reflect/value.go:434 +0x5c8\\r reflect.value.call 0xc420244b40, 0xc420132330, 0x13, 0xc420534050, 0x3, 0x3, 0x0, 0x0, 0x370 \\r \\t/users/builduser/buildagent/work/d46533bce70e485f/go/src/reflect/value.go:302 +0xa4\\r created by github.com/derekparker/delve/service/rpccommon.  serverimpl .servejsoncodec\\r \\t/users/builduser/buildagent/work/d46533bce70e485f/gopath/src/github.com/derekparker/delve/service/rpccommon/server.go:299 +0xa38\\r    \\r\n"
     ]
    }
   ],
   "source": [
    "print_plot(30)\n"
   ]
  },
  {
   "cell_type": "markdown",
   "metadata": {
    "papermill": {
     "duration": 0.053286,
     "end_time": "2020-10-11T05:20:58.699595",
     "exception": false,
     "start_time": "2020-10-11T05:20:58.646309",
     "status": "completed"
    },
    "tags": []
   },
   "source": [
    "**Text Pre-processing**"
   ]
  },
  {
   "cell_type": "code",
   "execution_count": 23,
   "metadata": {
    "execution": {
     "iopub.execute_input": "2020-10-11T05:20:58.815779Z",
     "iopub.status.busy": "2020-10-11T05:20:58.814749Z",
     "iopub.status.idle": "2020-10-11T05:25:07.987900Z",
     "shell.execute_reply": "2020-10-11T05:25:07.988731Z"
    },
    "papermill": {
     "duration": 249.237411,
     "end_time": "2020-10-11T05:25:07.988948",
     "exception": false,
     "start_time": "2020-10-11T05:20:58.751537",
     "status": "completed"
    },
    "tags": []
   },
   "outputs": [
    {
     "name": "stdout",
     "output_type": "stream",
     "text": [
      "launcher check results against training data\n",
      "Tag: we want to be able to run a suite of algorithms against training data that has been split into training and validation sets  then we want to be able to see the potential results we will get this task comprises that whole pipeline\n"
     ]
    }
   ],
   "source": [
    "REPLACE_BY_SPACE_RE = re.compile('[/(){}\\[\\]\\|@,;]')\n",
    "BAD_SYMBOLS_RE = re.compile('[^0-9a-z #+_]')\n",
    "\n",
    "def clean_text(text):\n",
    "    \"\"\"\n",
    "        text: a string\n",
    "        \n",
    "        return: modified initial string\n",
    "    \"\"\"\n",
    "    text = BeautifulSoup(text, \"lxml\").text # HTML decoding\n",
    "    text = text.lower() # lowercase text\n",
    "    text = REPLACE_BY_SPACE_RE.sub(' ', text) # replace REPLACE_BY_SPACE_RE symbols by space in text\n",
    "    text = BAD_SYMBOLS_RE.sub('', text) # delete symbols which are in BAD_SYMBOLS_RE from text\n",
    "    #text = ' '.join(word for word in text.split() if word not in STOPWORDS) # delete stopwors from text\n",
    "    return text\n",
    "    \n",
    "train_new['title'] = train_new['title'].apply(clean_text)\n",
    "train_new['body'] = train_new['body'].apply(clean_text)\n",
    "\n",
    "print_plot(10)"
   ]
  },
  {
   "cell_type": "code",
   "execution_count": 24,
   "metadata": {
    "execution": {
     "iopub.execute_input": "2020-10-11T05:25:08.143785Z",
     "iopub.status.busy": "2020-10-11T05:25:08.142918Z",
     "iopub.status.idle": "2020-10-11T05:25:08.151621Z",
     "shell.execute_reply": "2020-10-11T05:25:08.152537Z"
    },
    "papermill": {
     "duration": 0.090184,
     "end_time": "2020-10-11T05:25:08.152719",
     "exception": false,
     "start_time": "2020-10-11T05:25:08.062535",
     "status": "completed"
    },
    "tags": []
   },
   "outputs": [
    {
     "name": "stdout",
     "output_type": "stream",
     "text": [
      "step panics if source file isnt found in debug_line\n",
      "Tag: please answer the following before submitting your issuer r note please include any substantial examples  debug session output r stacktraces  etc  as linked gistsr r 1 what version of delve are you using   dlv version   the latest one from the masterr 2 what version of go are you using   go version   171r 3 what operating system and processor architecture are you usingr 4 what did you dor r    gor package mainr r import  fmt r r func main    r tfmtprintln  adssd      put a breakpoint herer  r    r r and step into until youll get the exceptionr r 5 what did you expect to seer r 6 what did you see insteadr r    r panic runtime error invalid memory address or nil pointer dereferencer  signal sigsegv segmentation violation code0x1 addr0x28 pc0x42caf41 r r goroutine 43  running r panic 0x44a8000  0xc4200140a0 r t users builduser buildagent work d46533bce70e485f go src runtime panicgo500 +0x1a1r githubcom derekparker delve dwarf line  debuglines allpcsbetween 0xc42008bed8  0x7ca90  0x7ca94  0x0  0x0  0x1  0x1  0x0 r t users builduser buildagent work d46533bce70e485f gopath src githubcom derekparker delve dwarf line state_machinego114 +0xb1r githubcom derekparker delve proc  process next 0xc42008be60  0xc420122601  0x27290  0xc42008d1b8 r t users builduser buildagent work d46533bce70e485f gopath src githubcom derekparker delve proc threadsgo236 +0x597r githubcom derekparker delve proc  process step 0xc42008be60  0x1  0x1 r t users builduser buildagent work d46533bce70e485f gopath src githubcom derekparker delve proc procgo454 +0xfer githubcom derekparker delve service debugger  debugger command 0xc4200dd800  0xc4207d1b48  0x0  0x0  0x0 r t users builduser buildagent work d46533bce70e485f gopath src githubcom derekparker delve service debugger debuggergo421 +0x515r githubcom derekparker delve service rpc2  rpcserver command 0xc4201981d0  0xc4207059b8  0x4  0x0  0x0  0x4d1faf0  0xc4201a9540 r t users builduser buildagent work d46533bce70e485f gopath src githubcom derekparker delve service rpc2 servergo85 +0x51r reflectvaluecall 0xc420244b40  0xc420132330  0x13  0x4527879  0x4  0xc420534050  0x3  0x3  0x339  0x745d9   r t users builduser buildagent work d46533bce70e485f go src reflect valuego434 +0x5c8r reflectvaluecall 0xc420244b40  0xc420132330  0x13  0xc420534050  0x3  0x3  0x0  0x0  0x370 r t users builduser buildagent work d46533bce70e485f go src reflect valuego302 +0xa4r created by githubcom derekparker delve service rpccommon  serverimpl servejsoncodecr t users builduser buildagent work d46533bce70e485f gopath src githubcom derekparker delve service rpccommon servergo299 +0xa38r    r\n"
     ]
    }
   ],
   "source": [
    "print_plot(30)"
   ]
  },
  {
   "cell_type": "code",
   "execution_count": 25,
   "metadata": {
    "execution": {
     "iopub.execute_input": "2020-10-11T05:25:08.311611Z",
     "iopub.status.busy": "2020-10-11T05:25:08.310542Z",
     "iopub.status.idle": "2020-10-11T05:25:08.324441Z",
     "shell.execute_reply": "2020-10-11T05:25:08.325668Z"
    },
    "papermill": {
     "duration": 0.099499,
     "end_time": "2020-10-11T05:25:08.325893",
     "exception": false,
     "start_time": "2020-10-11T05:25:08.226394",
     "status": "completed"
    },
    "tags": []
   },
   "outputs": [
    {
     "data": {
      "text/html": [
       "<div>\n",
       "<style scoped>\n",
       "    .dataframe tbody tr th:only-of-type {\n",
       "        vertical-align: middle;\n",
       "    }\n",
       "\n",
       "    .dataframe tbody tr th {\n",
       "        vertical-align: top;\n",
       "    }\n",
       "\n",
       "    .dataframe thead th {\n",
       "        text-align: right;\n",
       "    }\n",
       "</style>\n",
       "<table border=\"1\" class=\"dataframe\">\n",
       "  <thead>\n",
       "    <tr style=\"text-align: right;\">\n",
       "      <th></th>\n",
       "      <th>title</th>\n",
       "      <th>body</th>\n",
       "      <th>label</th>\n",
       "    </tr>\n",
       "  </thead>\n",
       "  <tbody>\n",
       "    <tr>\n",
       "      <th>0</th>\n",
       "      <td>yzoom piano roll</td>\n",
       "      <td>a yzoom on the piano roll would be useful</td>\n",
       "      <td>1</td>\n",
       "    </tr>\n",
       "    <tr>\n",
       "      <th>1</th>\n",
       "      <td>buggy behavior in selection</td>\n",
       "      <td>screenshot from 20160223 21 27 40  https  clo...</td>\n",
       "      <td>0</td>\n",
       "    </tr>\n",
       "    <tr>\n",
       "      <th>2</th>\n",
       "      <td>auto update feature</td>\n",
       "      <td>hi r r great job so far   saenzramiro   r r an...</td>\n",
       "      <td>1</td>\n",
       "    </tr>\n",
       "    <tr>\n",
       "      <th>3</th>\n",
       "      <td>filter out noisy endpoints in logs</td>\n",
       "      <td>i think we should stop logging requests tor   ...</td>\n",
       "      <td>1</td>\n",
       "    </tr>\n",
       "    <tr>\n",
       "      <th>4</th>\n",
       "      <td>enable pid on   pid off alarm actions for ardu...</td>\n",
       "      <td>expected behaviorr alarm actions pid on and pi...</td>\n",
       "      <td>0</td>\n",
       "    </tr>\n",
       "    <tr>\n",
       "      <th>...</th>\n",
       "      <td>...</td>\n",
       "      <td>...</td>\n",
       "      <td>...</td>\n",
       "    </tr>\n",
       "    <tr>\n",
       "      <th>449995</th>\n",
       "      <td>shield against invalid dates</td>\n",
       "      <td>makesem crash the renderer for now  r r datefo...</td>\n",
       "      <td>0</td>\n",
       "    </tr>\n",
       "    <tr>\n",
       "      <th>449996</th>\n",
       "      <td>fix the knight</td>\n",
       "      <td>seriously  if you do just one thing this week</td>\n",
       "      <td>0</td>\n",
       "    </tr>\n",
       "    <tr>\n",
       "      <th>449997</th>\n",
       "      <td>portaudio playback binding crashes often  ubun...</td>\n",
       "      <td>appear to be very unstable relates to  17</td>\n",
       "      <td>0</td>\n",
       "    </tr>\n",
       "    <tr>\n",
       "      <th>449998</th>\n",
       "      <td>add dbpath option for allowing user to specify...</td>\n",
       "      <td>add  dbpath  option with default value as  db_...</td>\n",
       "      <td>1</td>\n",
       "    </tr>\n",
       "    <tr>\n",
       "      <th>449999</th>\n",
       "      <td>staff users cannot log in to admin</td>\n",
       "      <td>i added admire as a staff user but he cannot l...</td>\n",
       "      <td>0</td>\n",
       "    </tr>\n",
       "  </tbody>\n",
       "</table>\n",
       "<p>450000 rows × 3 columns</p>\n",
       "</div>"
      ],
      "text/plain": [
       "                                                    title  \\\n",
       "0                                        yzoom piano roll   \n",
       "1                             buggy behavior in selection   \n",
       "2                                     auto update feature   \n",
       "3                      filter out noisy endpoints in logs   \n",
       "4       enable pid on   pid off alarm actions for ardu...   \n",
       "...                                                   ...   \n",
       "449995                       shield against invalid dates   \n",
       "449996                                     fix the knight   \n",
       "449997  portaudio playback binding crashes often  ubun...   \n",
       "449998  add dbpath option for allowing user to specify...   \n",
       "449999                 staff users cannot log in to admin   \n",
       "\n",
       "                                                     body  label  \n",
       "0               a yzoom on the piano roll would be useful      1  \n",
       "1        screenshot from 20160223 21 27 40  https  clo...      0  \n",
       "2       hi r r great job so far   saenzramiro   r r an...      1  \n",
       "3       i think we should stop logging requests tor   ...      1  \n",
       "4       expected behaviorr alarm actions pid on and pi...      0  \n",
       "...                                                   ...    ...  \n",
       "449995  makesem crash the renderer for now  r r datefo...      0  \n",
       "449996      seriously  if you do just one thing this week      0  \n",
       "449997          appear to be very unstable relates to  17      0  \n",
       "449998  add  dbpath  option with default value as  db_...      1  \n",
       "449999  i added admire as a staff user but he cannot l...      0  \n",
       "\n",
       "[450000 rows x 3 columns]"
      ]
     },
     "execution_count": 25,
     "metadata": {},
     "output_type": "execute_result"
    }
   ],
   "source": [
    "train_new"
   ]
  },
  {
   "cell_type": "code",
   "execution_count": 26,
   "metadata": {
    "execution": {
     "iopub.execute_input": "2020-10-11T05:25:08.498443Z",
     "iopub.status.busy": "2020-10-11T05:25:08.497524Z",
     "iopub.status.idle": "2020-10-11T05:25:09.021337Z",
     "shell.execute_reply": "2020-10-11T05:25:09.020823Z"
    },
    "papermill": {
     "duration": 0.60467,
     "end_time": "2020-10-11T05:25:09.021481",
     "exception": false,
     "start_time": "2020-10-11T05:25:08.416811",
     "status": "completed"
    },
    "tags": []
   },
   "outputs": [
    {
     "data": {
      "text/plain": [
       "0    yzoom piano roll a yzoom on the piano roll wou...\n",
       "1    buggy behavior in selection  screenshot from 2...\n",
       "2    auto update feature hi r r great job so far   ...\n",
       "3    filter out noisy endpoints in logs i think we ...\n",
       "4    enable pid on   pid off alarm actions for ardu...\n",
       "dtype: object"
      ]
     },
     "execution_count": 26,
     "metadata": {},
     "output_type": "execute_result"
    }
   ],
   "source": [
    "combined = train_new[\"title\"] +' '+ train_new[\"body\"]\n",
    "combined.head()"
   ]
  },
  {
   "cell_type": "code",
   "execution_count": 27,
   "metadata": {
    "execution": {
     "iopub.execute_input": "2020-10-11T05:25:09.142313Z",
     "iopub.status.busy": "2020-10-11T05:25:09.141384Z",
     "iopub.status.idle": "2020-10-11T05:25:12.284408Z",
     "shell.execute_reply": "2020-10-11T05:25:12.284926Z"
    },
    "papermill": {
     "duration": 3.210748,
     "end_time": "2020-10-11T05:25:12.285088",
     "exception": false,
     "start_time": "2020-10-11T05:25:09.074340",
     "status": "completed"
    },
    "tags": []
   },
   "outputs": [
    {
     "data": {
      "text/plain": [
       "48606274"
      ]
     },
     "execution_count": 27,
     "metadata": {},
     "output_type": "execute_result"
    }
   ],
   "source": [
    "combined.apply(lambda x: len(x.split(' '))).sum()\n"
   ]
  },
  {
   "cell_type": "code",
   "execution_count": 28,
   "metadata": {
    "execution": {
     "iopub.execute_input": "2020-10-11T05:25:12.406474Z",
     "iopub.status.busy": "2020-10-11T05:25:12.405577Z",
     "iopub.status.idle": "2020-10-11T05:25:12.503624Z",
     "shell.execute_reply": "2020-10-11T05:25:12.502263Z"
    },
    "papermill": {
     "duration": 0.165585,
     "end_time": "2020-10-11T05:25:12.503750",
     "exception": false,
     "start_time": "2020-10-11T05:25:12.338165",
     "status": "completed"
    },
    "tags": []
   },
   "outputs": [],
   "source": [
    "X_train, X_test, y_train, y_test = train_test_split(combined, y, test_size=0.3, random_state = 101)\n"
   ]
  },
  {
   "cell_type": "code",
   "execution_count": 29,
   "metadata": {
    "execution": {
     "iopub.execute_input": "2020-10-11T05:25:12.623011Z",
     "iopub.status.busy": "2020-10-11T05:25:12.622057Z",
     "iopub.status.idle": "2020-10-11T05:25:12.626438Z",
     "shell.execute_reply": "2020-10-11T05:25:12.625827Z"
    },
    "papermill": {
     "duration": 0.065775,
     "end_time": "2020-10-11T05:25:12.626545",
     "exception": false,
     "start_time": "2020-10-11T05:25:12.560770",
     "status": "completed"
    },
    "tags": []
   },
   "outputs": [
    {
     "data": {
      "text/plain": [
       "364465    filter out functions no point in showing funct...\n",
       "191181    need content for landingpage lorem ipsum text ...\n",
       "372716    maps with only one region have no legend i not...\n",
       "47616     make it easy to learn where a function came fr...\n",
       "307032    bigint unsigned is mapped to biginteger howeve...\n",
       "dtype: object"
      ]
     },
     "execution_count": 29,
     "metadata": {},
     "output_type": "execute_result"
    }
   ],
   "source": [
    "X_train.head()"
   ]
  },
  {
   "cell_type": "code",
   "execution_count": 30,
   "metadata": {
    "execution": {
     "iopub.execute_input": "2020-10-11T05:25:12.741342Z",
     "iopub.status.busy": "2020-10-11T05:25:12.740467Z",
     "iopub.status.idle": "2020-10-11T05:25:12.743911Z",
     "shell.execute_reply": "2020-10-11T05:25:12.744399Z"
    },
    "papermill": {
     "duration": 0.063553,
     "end_time": "2020-10-11T05:25:12.744536",
     "exception": false,
     "start_time": "2020-10-11T05:25:12.680983",
     "status": "completed"
    },
    "tags": []
   },
   "outputs": [
    {
     "data": {
      "text/plain": [
       "364465    1\n",
       "191181    1\n",
       "372716    0\n",
       "47616     1\n",
       "307032    0\n",
       "Name: label, dtype: int64"
      ]
     },
     "execution_count": 30,
     "metadata": {},
     "output_type": "execute_result"
    }
   ],
   "source": [
    "y_train.head()"
   ]
  },
  {
   "cell_type": "markdown",
   "metadata": {
    "papermill": {
     "duration": 0.054301,
     "end_time": "2020-10-11T05:25:12.854202",
     "exception": false,
     "start_time": "2020-10-11T05:25:12.799901",
     "status": "completed"
    },
    "tags": []
   },
   "source": [
    "**Model Building**"
   ]
  },
  {
   "cell_type": "code",
   "execution_count": 31,
   "metadata": {
    "execution": {
     "iopub.execute_input": "2020-10-11T05:25:12.978718Z",
     "iopub.status.busy": "2020-10-11T05:25:12.978066Z",
     "iopub.status.idle": "2020-10-11T05:26:04.454403Z",
     "shell.execute_reply": "2020-10-11T05:26:04.453497Z"
    },
    "papermill": {
     "duration": 51.542058,
     "end_time": "2020-10-11T05:26:04.454592",
     "exception": false,
     "start_time": "2020-10-11T05:25:12.912534",
     "status": "completed"
    },
    "tags": []
   },
   "outputs": [
    {
     "name": "stdout",
     "output_type": "stream",
     "text": [
      "accuracy 0.7180666666666666\n",
      "              precision    recall  f1-score   support\n",
      "\n",
      "           0       0.77      0.71      0.74     60149\n",
      "           1       0.68      0.87      0.76     62230\n",
      "           2       0.00      0.00      0.00     12621\n",
      "\n",
      "    accuracy                           0.72    135000\n",
      "   macro avg       0.48      0.53      0.50    135000\n",
      "weighted avg       0.66      0.72      0.68    135000\n",
      "\n"
     ]
    },
    {
     "name": "stderr",
     "output_type": "stream",
     "text": [
      "/opt/conda/lib/python3.7/site-packages/sklearn/metrics/_classification.py:1221: UndefinedMetricWarning: Precision and F-score are ill-defined and being set to 0.0 in labels with no predicted samples. Use `zero_division` parameter to control this behavior.\n",
      "  _warn_prf(average, modifier, msg_start, len(result))\n"
     ]
    }
   ],
   "source": [
    "# Naive Bayes Classifier for Multinomial Models\n",
    "\n",
    "from sklearn.naive_bayes import MultinomialNB\n",
    "from sklearn.pipeline import Pipeline\n",
    "from sklearn.feature_extraction.text import TfidfTransformer\n",
    "\n",
    "nb = Pipeline([('vect', CountVectorizer(stop_words='english')),\n",
    "               ('tfidf', TfidfTransformer()),\n",
    "               ('clf', MultinomialNB()),\n",
    "              ])\n",
    "nb.fit(X_train, y_train)\n",
    "\n",
    "\n",
    "from sklearn.metrics import classification_report\n",
    "y_pred = nb.predict(X_test)\n",
    "\n",
    "print('accuracy %s' % accuracy_score(y_pred, y_test))\n",
    "print(classification_report(y_test, y_pred))"
   ]
  },
  {
   "cell_type": "code",
   "execution_count": 32,
   "metadata": {
    "execution": {
     "iopub.execute_input": "2020-10-11T05:26:04.600245Z",
     "iopub.status.busy": "2020-10-11T05:26:04.590106Z",
     "iopub.status.idle": "2020-10-11T05:26:57.396075Z",
     "shell.execute_reply": "2020-10-11T05:26:57.396941Z"
    },
    "papermill": {
     "duration": 52.883466,
     "end_time": "2020-10-11T05:26:57.397157",
     "exception": false,
     "start_time": "2020-10-11T05:26:04.513691",
     "status": "completed"
    },
    "tags": []
   },
   "outputs": [
    {
     "name": "stdout",
     "output_type": "stream",
     "text": [
      "accuracy 0.731125925925926\n",
      "              precision    recall  f1-score   support\n",
      "\n",
      "           0       0.72      0.83      0.77     60149\n",
      "           1       0.74      0.79      0.76     62230\n",
      "           2       1.00      0.00      0.00     12621\n",
      "\n",
      "    accuracy                           0.73    135000\n",
      "   macro avg       0.82      0.54      0.51    135000\n",
      "weighted avg       0.76      0.73      0.70    135000\n",
      "\n"
     ]
    }
   ],
   "source": [
    "# Linear Support Vector Machine\n",
    "\n",
    "from sklearn.linear_model import SGDClassifier\n",
    "\n",
    "sgd = Pipeline([('vect', CountVectorizer(stop_words='english')),\n",
    "                ('tfidf', TfidfTransformer()),\n",
    "                ('clf', SGDClassifier(loss='hinge', penalty='l2',alpha=1e-3, random_state=42, max_iter=5, tol=None)),\n",
    "               ])\n",
    "sgd.fit(X_train, y_train)\n",
    "\n",
    "\n",
    "y_pred = sgd.predict(X_test)\n",
    "\n",
    "print('accuracy %s' % accuracy_score(y_pred, y_test))\n",
    "print(classification_report(y_test, y_pred))"
   ]
  },
  {
   "cell_type": "code",
   "execution_count": 33,
   "metadata": {
    "execution": {
     "iopub.execute_input": "2020-10-11T05:26:57.551322Z",
     "iopub.status.busy": "2020-10-11T05:26:57.535634Z",
     "iopub.status.idle": "2020-10-11T05:29:25.862726Z",
     "shell.execute_reply": "2020-10-11T05:29:25.863726Z"
    },
    "papermill": {
     "duration": 148.40568,
     "end_time": "2020-10-11T05:29:25.863966",
     "exception": false,
     "start_time": "2020-10-11T05:26:57.458286",
     "status": "completed"
    },
    "tags": []
   },
   "outputs": [
    {
     "name": "stderr",
     "output_type": "stream",
     "text": [
      "/opt/conda/lib/python3.7/site-packages/sklearn/linear_model/_logistic.py:764: ConvergenceWarning: lbfgs failed to converge (status=1):\n",
      "STOP: TOTAL NO. of ITERATIONS REACHED LIMIT.\n",
      "\n",
      "Increase the number of iterations (max_iter) or scale the data as shown in:\n",
      "    https://scikit-learn.org/stable/modules/preprocessing.html\n",
      "Please also refer to the documentation for alternative solver options:\n",
      "    https://scikit-learn.org/stable/modules/linear_model.html#logistic-regression\n",
      "  extra_warning_msg=_LOGISTIC_SOLVER_CONVERGENCE_MSG)\n"
     ]
    },
    {
     "name": "stdout",
     "output_type": "stream",
     "text": [
      "accuracy 0.7495555555555555\n",
      "              precision    recall  f1-score   support\n",
      "\n",
      "           0       0.77      0.79      0.78     60149\n",
      "           1       0.77      0.80      0.78     62230\n",
      "           2       0.47      0.32      0.38     12621\n",
      "\n",
      "    accuracy                           0.75    135000\n",
      "   macro avg       0.67      0.64      0.65    135000\n",
      "weighted avg       0.74      0.75      0.74    135000\n",
      "\n"
     ]
    }
   ],
   "source": [
    "# Logistic Regression\n",
    "\n",
    "from sklearn.linear_model import LogisticRegression\n",
    "\n",
    "logreg = Pipeline([('vect', CountVectorizer(stop_words='english')),\n",
    "                ('tfidf', TfidfTransformer()),\n",
    "                ('clf', LogisticRegression(n_jobs=1, C=1e5)),\n",
    "               ])\n",
    "logreg.fit(X_train, y_train)\n",
    "\n",
    "\n",
    "\n",
    "y_pred = logreg.predict(X_test)\n",
    "\n",
    "print('accuracy %s' % accuracy_score(y_pred, y_test))\n",
    "print(classification_report(y_test, y_pred))"
   ]
  },
  {
   "cell_type": "code",
   "execution_count": 34,
   "metadata": {
    "execution": {
     "iopub.execute_input": "2020-10-11T05:29:26.004333Z",
     "iopub.status.busy": "2020-10-11T05:29:26.003272Z",
     "iopub.status.idle": "2020-10-11T05:29:26.008287Z",
     "shell.execute_reply": "2020-10-11T05:29:26.008905Z"
    },
    "papermill": {
     "duration": 0.08376,
     "end_time": "2020-10-11T05:29:26.009063",
     "exception": false,
     "start_time": "2020-10-11T05:29:25.925303",
     "status": "completed"
    },
    "tags": []
   },
   "outputs": [
    {
     "data": {
      "text/html": [
       "<div>\n",
       "<style scoped>\n",
       "    .dataframe tbody tr th:only-of-type {\n",
       "        vertical-align: middle;\n",
       "    }\n",
       "\n",
       "    .dataframe tbody tr th {\n",
       "        vertical-align: top;\n",
       "    }\n",
       "\n",
       "    .dataframe thead th {\n",
       "        text-align: right;\n",
       "    }\n",
       "</style>\n",
       "<table border=\"1\" class=\"dataframe\">\n",
       "  <thead>\n",
       "    <tr style=\"text-align: right;\">\n",
       "      <th></th>\n",
       "      <th>title</th>\n",
       "      <th>body</th>\n",
       "    </tr>\n",
       "  </thead>\n",
       "  <tbody>\n",
       "    <tr>\n",
       "      <th>0</th>\n",
       "      <td>config question  path-specific environment var...</td>\n",
       "      <td>issue description or question\\r \\r hey @artemg...</td>\n",
       "    </tr>\n",
       "    <tr>\n",
       "      <th>1</th>\n",
       "      <td>crash indien vol</td>\n",
       "      <td>de simulator crasht als hij vol zit</td>\n",
       "    </tr>\n",
       "    <tr>\n",
       "      <th>2</th>\n",
       "      <td>unable to mine rocks</td>\n",
       "      <td>sarkasmo starting today, when i hit enter  act...</td>\n",
       "    </tr>\n",
       "    <tr>\n",
       "      <th>3</th>\n",
       "      <td>not all whitelists are processed</td>\n",
       "      <td>create following rules... order of creation is...</td>\n",
       "    </tr>\n",
       "    <tr>\n",
       "      <th>4</th>\n",
       "      <td>add ctx menu for idafree 70 and idafree 5</td>\n",
       "      <td>associated with .dll, .dll_, .exe, .exe_, .sc,...</td>\n",
       "    </tr>\n",
       "  </tbody>\n",
       "</table>\n",
       "</div>"
      ],
      "text/plain": [
       "                                               title  \\\n",
       "0  config question  path-specific environment var...   \n",
       "1                                   crash indien vol   \n",
       "2                               unable to mine rocks   \n",
       "3                   not all whitelists are processed   \n",
       "4          add ctx menu for idafree 70 and idafree 5   \n",
       "\n",
       "                                                body  \n",
       "0  issue description or question\\r \\r hey @artemg...  \n",
       "1                de simulator crasht als hij vol zit  \n",
       "2  sarkasmo starting today, when i hit enter  act...  \n",
       "3  create following rules... order of creation is...  \n",
       "4  associated with .dll, .dll_, .exe, .exe_, .sc,...  "
      ]
     },
     "execution_count": 34,
     "metadata": {},
     "output_type": "execute_result"
    }
   ],
   "source": [
    "test.head()"
   ]
  },
  {
   "cell_type": "code",
   "execution_count": 35,
   "metadata": {
    "execution": {
     "iopub.execute_input": "2020-10-11T05:29:26.156871Z",
     "iopub.status.busy": "2020-10-11T05:29:26.155917Z",
     "iopub.status.idle": "2020-10-11T05:29:42.685385Z",
     "shell.execute_reply": "2020-10-11T05:29:42.684200Z"
    },
    "papermill": {
     "duration": 16.605571,
     "end_time": "2020-10-11T05:29:42.685531",
     "exception": false,
     "start_time": "2020-10-11T05:29:26.079960",
     "status": "completed"
    },
    "tags": []
   },
   "outputs": [],
   "source": [
    "test['title'] = test['title'].apply(clean_text)\n",
    "test['body'] = test['body'].apply(clean_text)\n",
    "\n"
   ]
  },
  {
   "cell_type": "code",
   "execution_count": 36,
   "metadata": {
    "execution": {
     "iopub.execute_input": "2020-10-11T05:29:42.838327Z",
     "iopub.status.busy": "2020-10-11T05:29:42.837450Z",
     "iopub.status.idle": "2020-10-11T05:29:42.845994Z",
     "shell.execute_reply": "2020-10-11T05:29:42.846727Z"
    },
    "papermill": {
     "duration": 0.101295,
     "end_time": "2020-10-11T05:29:42.846940",
     "exception": false,
     "start_time": "2020-10-11T05:29:42.745645",
     "status": "completed"
    },
    "tags": []
   },
   "outputs": [
    {
     "data": {
      "text/html": [
       "<div>\n",
       "<style scoped>\n",
       "    .dataframe tbody tr th:only-of-type {\n",
       "        vertical-align: middle;\n",
       "    }\n",
       "\n",
       "    .dataframe tbody tr th {\n",
       "        vertical-align: top;\n",
       "    }\n",
       "\n",
       "    .dataframe thead th {\n",
       "        text-align: right;\n",
       "    }\n",
       "</style>\n",
       "<table border=\"1\" class=\"dataframe\">\n",
       "  <thead>\n",
       "    <tr style=\"text-align: right;\">\n",
       "      <th></th>\n",
       "      <th>title</th>\n",
       "      <th>body</th>\n",
       "    </tr>\n",
       "  </thead>\n",
       "  <tbody>\n",
       "    <tr>\n",
       "      <th>0</th>\n",
       "      <td>config question  pathspecific environment vari...</td>\n",
       "      <td>issue description or questionr r hey  artemgov...</td>\n",
       "    </tr>\n",
       "    <tr>\n",
       "      <th>1</th>\n",
       "      <td>crash indien vol</td>\n",
       "      <td>de simulator crasht als hij vol zit</td>\n",
       "    </tr>\n",
       "    <tr>\n",
       "      <th>2</th>\n",
       "      <td>unable to mine rocks</td>\n",
       "      <td>sarkasmo starting today  when i hit enter  act...</td>\n",
       "    </tr>\n",
       "    <tr>\n",
       "      <th>3</th>\n",
       "      <td>not all whitelists are processed</td>\n",
       "      <td>create following rules order of creation is im...</td>\n",
       "    </tr>\n",
       "    <tr>\n",
       "      <th>4</th>\n",
       "      <td>add ctx menu for idafree 70 and idafree 5</td>\n",
       "      <td>associated with dll  dll_  exe  exe_  sc  shel...</td>\n",
       "    </tr>\n",
       "  </tbody>\n",
       "</table>\n",
       "</div>"
      ],
      "text/plain": [
       "                                               title  \\\n",
       "0  config question  pathspecific environment vari...   \n",
       "1                                   crash indien vol   \n",
       "2                               unable to mine rocks   \n",
       "3                   not all whitelists are processed   \n",
       "4          add ctx menu for idafree 70 and idafree 5   \n",
       "\n",
       "                                                body  \n",
       "0  issue description or questionr r hey  artemgov...  \n",
       "1                de simulator crasht als hij vol zit  \n",
       "2  sarkasmo starting today  when i hit enter  act...  \n",
       "3  create following rules order of creation is im...  \n",
       "4  associated with dll  dll_  exe  exe_  sc  shel...  "
      ]
     },
     "execution_count": 36,
     "metadata": {},
     "output_type": "execute_result"
    }
   ],
   "source": [
    "test.head()"
   ]
  },
  {
   "cell_type": "code",
   "execution_count": 37,
   "metadata": {
    "execution": {
     "iopub.execute_input": "2020-10-11T05:29:43.054255Z",
     "iopub.status.busy": "2020-10-11T05:29:43.053338Z",
     "iopub.status.idle": "2020-10-11T05:29:43.061099Z",
     "shell.execute_reply": "2020-10-11T05:29:43.062214Z"
    },
    "papermill": {
     "duration": 0.109778,
     "end_time": "2020-10-11T05:29:43.062409",
     "exception": false,
     "start_time": "2020-10-11T05:29:42.952631",
     "status": "completed"
    },
    "tags": []
   },
   "outputs": [
    {
     "data": {
      "text/html": [
       "<div>\n",
       "<style scoped>\n",
       "    .dataframe tbody tr th:only-of-type {\n",
       "        vertical-align: middle;\n",
       "    }\n",
       "\n",
       "    .dataframe tbody tr th {\n",
       "        vertical-align: top;\n",
       "    }\n",
       "\n",
       "    .dataframe thead th {\n",
       "        text-align: right;\n",
       "    }\n",
       "</style>\n",
       "<table border=\"1\" class=\"dataframe\">\n",
       "  <thead>\n",
       "    <tr style=\"text-align: right;\">\n",
       "      <th></th>\n",
       "      <th>title</th>\n",
       "      <th>body</th>\n",
       "    </tr>\n",
       "  </thead>\n",
       "  <tbody>\n",
       "    <tr>\n",
       "      <th>29995</th>\n",
       "      <td>closing a project with running simulations doe...</td>\n",
       "      <td>should the client take care of that or should ...</td>\n",
       "    </tr>\n",
       "    <tr>\n",
       "      <th>29996</th>\n",
       "      <td>missing table description on db2   db2 iseries...</td>\n",
       "      <td>on tables  fields descriptions and tooltip are...</td>\n",
       "    </tr>\n",
       "    <tr>\n",
       "      <th>29997</th>\n",
       "      <td>cases when notification should be shown</td>\n",
       "      <td>new message  always but not on chat screenr  ...</td>\n",
       "    </tr>\n",
       "    <tr>\n",
       "      <th>29998</th>\n",
       "      <td>ip2914 errors in idea2client when syncing</td>\n",
       "      <td>i see the following errors in the logsr r    r...</td>\n",
       "    </tr>\n",
       "    <tr>\n",
       "      <th>29999</th>\n",
       "      <td>portable open system pharmacology version</td>\n",
       "      <td>hello r first of all  i would like to thank th...</td>\n",
       "    </tr>\n",
       "  </tbody>\n",
       "</table>\n",
       "</div>"
      ],
      "text/plain": [
       "                                                   title  \\\n",
       "29995  closing a project with running simulations doe...   \n",
       "29996  missing table description on db2   db2 iseries...   \n",
       "29997            cases when notification should be shown   \n",
       "29998          ip2914 errors in idea2client when syncing   \n",
       "29999          portable open system pharmacology version   \n",
       "\n",
       "                                                    body  \n",
       "29995  should the client take care of that or should ...  \n",
       "29996  on tables  fields descriptions and tooltip are...  \n",
       "29997   new message  always but not on chat screenr  ...  \n",
       "29998  i see the following errors in the logsr r    r...  \n",
       "29999  hello r first of all  i would like to thank th...  "
      ]
     },
     "execution_count": 37,
     "metadata": {},
     "output_type": "execute_result"
    }
   ],
   "source": [
    "test.tail()"
   ]
  },
  {
   "cell_type": "code",
   "execution_count": 38,
   "metadata": {
    "execution": {
     "iopub.execute_input": "2020-10-11T05:29:43.293261Z",
     "iopub.status.busy": "2020-10-11T05:29:43.292333Z",
     "iopub.status.idle": "2020-10-11T05:29:43.325161Z",
     "shell.execute_reply": "2020-10-11T05:29:43.326278Z"
    },
    "papermill": {
     "duration": 0.177717,
     "end_time": "2020-10-11T05:29:43.326499",
     "exception": false,
     "start_time": "2020-10-11T05:29:43.148782",
     "status": "completed"
    },
    "tags": []
   },
   "outputs": [
    {
     "data": {
      "text/plain": [
       "0    config question  pathspecific environment vari...\n",
       "1    crash indien vol de simulator crasht als hij v...\n",
       "2    unable to mine rocks sarkasmo starting today  ...\n",
       "3    not all whitelists are processed create follow...\n",
       "4    add ctx menu for idafree 70 and idafree 5 asso...\n",
       "dtype: object"
      ]
     },
     "execution_count": 38,
     "metadata": {},
     "output_type": "execute_result"
    }
   ],
   "source": [
    "Test = test[\"title\"] +' '+ test[\"body\"]\n",
    "Test.head()"
   ]
  },
  {
   "cell_type": "code",
   "execution_count": 39,
   "metadata": {
    "execution": {
     "iopub.execute_input": "2020-10-11T05:29:43.526290Z",
     "iopub.status.busy": "2020-10-11T05:29:43.525503Z",
     "iopub.status.idle": "2020-10-11T05:29:43.819838Z",
     "shell.execute_reply": "2020-10-11T05:29:43.821016Z"
    },
    "papermill": {
     "duration": 0.395675,
     "end_time": "2020-10-11T05:29:43.821211",
     "exception": false,
     "start_time": "2020-10-11T05:29:43.425536",
     "status": "completed"
    },
    "tags": []
   },
   "outputs": [
    {
     "data": {
      "text/plain": [
       "3248810"
      ]
     },
     "execution_count": 39,
     "metadata": {},
     "output_type": "execute_result"
    }
   ],
   "source": [
    "Test.apply(lambda x: len(x.split(' '))).sum()\n"
   ]
  },
  {
   "cell_type": "code",
   "execution_count": 40,
   "metadata": {
    "execution": {
     "iopub.execute_input": "2020-10-11T05:29:44.013312Z",
     "iopub.status.busy": "2020-10-11T05:29:44.012374Z",
     "iopub.status.idle": "2020-10-11T05:29:46.864924Z",
     "shell.execute_reply": "2020-10-11T05:29:46.864172Z"
    },
    "papermill": {
     "duration": 2.960683,
     "end_time": "2020-10-11T05:29:46.865063",
     "exception": false,
     "start_time": "2020-10-11T05:29:43.904380",
     "status": "completed"
    },
    "tags": []
   },
   "outputs": [],
   "source": [
    "prediction_logreg = logreg.predict(Test)\n"
   ]
  },
  {
   "cell_type": "code",
   "execution_count": 41,
   "metadata": {
    "execution": {
     "iopub.execute_input": "2020-10-11T05:29:47.001152Z",
     "iopub.status.busy": "2020-10-11T05:29:47.000318Z",
     "iopub.status.idle": "2020-10-11T05:29:47.003593Z",
     "shell.execute_reply": "2020-10-11T05:29:47.004074Z"
    },
    "papermill": {
     "duration": 0.077411,
     "end_time": "2020-10-11T05:29:47.004195",
     "exception": false,
     "start_time": "2020-10-11T05:29:46.926784",
     "status": "completed"
    },
    "tags": []
   },
   "outputs": [
    {
     "data": {
      "text/html": [
       "<div>\n",
       "<style scoped>\n",
       "    .dataframe tbody tr th:only-of-type {\n",
       "        vertical-align: middle;\n",
       "    }\n",
       "\n",
       "    .dataframe tbody tr th {\n",
       "        vertical-align: top;\n",
       "    }\n",
       "\n",
       "    .dataframe thead th {\n",
       "        text-align: right;\n",
       "    }\n",
       "</style>\n",
       "<table border=\"1\" class=\"dataframe\">\n",
       "  <thead>\n",
       "    <tr style=\"text-align: right;\">\n",
       "      <th></th>\n",
       "      <th>0</th>\n",
       "    </tr>\n",
       "  </thead>\n",
       "  <tbody>\n",
       "    <tr>\n",
       "      <th>0</th>\n",
       "      <td>2</td>\n",
       "    </tr>\n",
       "    <tr>\n",
       "      <th>1</th>\n",
       "      <td>0</td>\n",
       "    </tr>\n",
       "    <tr>\n",
       "      <th>2</th>\n",
       "      <td>0</td>\n",
       "    </tr>\n",
       "    <tr>\n",
       "      <th>3</th>\n",
       "      <td>0</td>\n",
       "    </tr>\n",
       "    <tr>\n",
       "      <th>4</th>\n",
       "      <td>1</td>\n",
       "    </tr>\n",
       "    <tr>\n",
       "      <th>...</th>\n",
       "      <td>...</td>\n",
       "    </tr>\n",
       "    <tr>\n",
       "      <th>29995</th>\n",
       "      <td>1</td>\n",
       "    </tr>\n",
       "    <tr>\n",
       "      <th>29996</th>\n",
       "      <td>0</td>\n",
       "    </tr>\n",
       "    <tr>\n",
       "      <th>29997</th>\n",
       "      <td>0</td>\n",
       "    </tr>\n",
       "    <tr>\n",
       "      <th>29998</th>\n",
       "      <td>0</td>\n",
       "    </tr>\n",
       "    <tr>\n",
       "      <th>29999</th>\n",
       "      <td>2</td>\n",
       "    </tr>\n",
       "  </tbody>\n",
       "</table>\n",
       "<p>30000 rows × 1 columns</p>\n",
       "</div>"
      ],
      "text/plain": [
       "       0\n",
       "0      2\n",
       "1      0\n",
       "2      0\n",
       "3      0\n",
       "4      1\n",
       "...   ..\n",
       "29995  1\n",
       "29996  0\n",
       "29997  0\n",
       "29998  0\n",
       "29999  2\n",
       "\n",
       "[30000 rows x 1 columns]"
      ]
     },
     "execution_count": 41,
     "metadata": {},
     "output_type": "execute_result"
    }
   ],
   "source": [
    "prediction_logreg = pd.DataFrame(prediction_logreg)\n",
    "prediction_logreg"
   ]
  },
  {
   "cell_type": "code",
   "execution_count": 42,
   "metadata": {
    "execution": {
     "iopub.execute_input": "2020-10-11T05:29:47.132262Z",
     "iopub.status.busy": "2020-10-11T05:29:47.131619Z",
     "iopub.status.idle": "2020-10-11T05:29:47.140679Z",
     "shell.execute_reply": "2020-10-11T05:29:47.141387Z"
    },
    "papermill": {
     "duration": 0.076835,
     "end_time": "2020-10-11T05:29:47.141557",
     "exception": false,
     "start_time": "2020-10-11T05:29:47.064722",
     "status": "completed"
    },
    "tags": []
   },
   "outputs": [
    {
     "name": "stderr",
     "output_type": "stream",
     "text": [
      "/opt/conda/lib/python3.7/site-packages/tqdm/std.py:666: FutureWarning: The Panel class is removed from pandas. Accessing it from the top-level namespace will also be removed in the next version\n",
      "  from pandas import Panel\n"
     ]
    }
   ],
   "source": [
    "#  Doc2vec and Logistic Regression\n",
    "\n",
    "from tqdm import tqdm\n",
    "tqdm.pandas(desc=\"progress-bar\")\n",
    "from gensim.models import Doc2Vec\n",
    "from sklearn import utils\n",
    "import gensim\n",
    "from gensim.models.doc2vec import TaggedDocument\n",
    "import re"
   ]
  },
  {
   "cell_type": "code",
   "execution_count": 43,
   "metadata": {
    "execution": {
     "iopub.execute_input": "2020-10-11T05:29:47.274904Z",
     "iopub.status.busy": "2020-10-11T05:29:47.274085Z",
     "iopub.status.idle": "2020-10-11T05:29:47.277116Z",
     "shell.execute_reply": "2020-10-11T05:29:47.276578Z"
    },
    "papermill": {
     "duration": 0.070981,
     "end_time": "2020-10-11T05:29:47.277223",
     "exception": false,
     "start_time": "2020-10-11T05:29:47.206242",
     "status": "completed"
    },
    "tags": []
   },
   "outputs": [],
   "source": [
    "def label_sentences(corpus, label_type):\n",
    "    \"\"\"\n",
    "    Gensim's Doc2Vec implementation requires each document/paragraph to have a label associated with it.\n",
    "    We do this by using the TaggedDocument method. The format will be \"TRAIN_i\" or \"TEST_i\" where \"i\" is\n",
    "    a dummy index of the post.\n",
    "    \"\"\"\n",
    "    labeled = []\n",
    "    for i, v in enumerate(corpus):\n",
    "        label = label_type + '_' + str(i)\n",
    "        labeled.append(TaggedDocument(v.split(), [label]))\n",
    "    return labeled"
   ]
  },
  {
   "cell_type": "code",
   "execution_count": 44,
   "metadata": {
    "execution": {
     "iopub.execute_input": "2020-10-11T05:29:47.410748Z",
     "iopub.status.busy": "2020-10-11T05:29:47.409941Z",
     "iopub.status.idle": "2020-10-11T05:29:56.781802Z",
     "shell.execute_reply": "2020-10-11T05:29:56.781112Z"
    },
    "papermill": {
     "duration": 9.441672,
     "end_time": "2020-10-11T05:29:56.781934",
     "exception": false,
     "start_time": "2020-10-11T05:29:47.340262",
     "status": "completed"
    },
    "tags": []
   },
   "outputs": [],
   "source": [
    "X_train, X_test, y_train, y_test = train_test_split(combined, y, random_state=101, test_size=0.2)\n",
    "X_train = label_sentences(X_train, 'Train')\n",
    "X_test = label_sentences(X_test, 'Test')\n",
    "all_data = X_train + X_test"
   ]
  },
  {
   "cell_type": "code",
   "execution_count": 45,
   "metadata": {
    "execution": {
     "iopub.execute_input": "2020-10-11T05:29:56.957506Z",
     "iopub.status.busy": "2020-10-11T05:29:56.956503Z",
     "iopub.status.idle": "2020-10-11T05:29:56.961533Z",
     "shell.execute_reply": "2020-10-11T05:29:56.960973Z"
    },
    "papermill": {
     "duration": 0.088991,
     "end_time": "2020-10-11T05:29:56.961651",
     "exception": false,
     "start_time": "2020-10-11T05:29:56.872660",
     "status": "completed"
    },
    "tags": []
   },
   "outputs": [
    {
     "data": {
      "text/plain": [
       "[TaggedDocument(words=['error', 'in', 'githubio', 'docs', 'hey', 'r', 'r', 'i', 'just', 'wanted', 'to', 'report', 'a', 'small', 'error', 'in', 'the', 'docs', 'on', 'githubio', 'http', 'davidgohelgithubio', 'reporters', 'r', 'r', 'the', 'rjava', 'installation', 'check', 'is', 'given', 'asr', 'r', 'r', 'require', 'rjava', 'r', 'jcall', 'javalangsystem', 's', 'getproperty', 'javaversion', 'r', '1', '160_65', 'r', 'r', 'r', 'but', 'this', 'will', 'fail', 'in', 'a', 'fresh', 'r', 'session', 'because', 'the', 'jvm', 'isnt', 'runningr', 'r', 'r', 'require', 'rjava', 'r', 'loading', 'required', 'package', 'rjavar', 'jcall', 'javalangsystem', 's', 'getproperty', 'javaversion', 'r', 'error', 'in', 'jcheck', 'no', 'running', 'jvm', 'detected', 'maybe', 'jinit', 'would', 'helpr', 'r', 'r', 'one', 'correct', 'example', 'isr', 'r', 'r', 'rjavajinit', 'rjavajcall', 'javalangsystem', 's', 'getproperty', 'javaversion', 'r', '1', '180_101', 'r', 'r', 'r', 'thanks'], tags=['Train_0']),\n",
       " TaggedDocument(words=['open', 'link', 'to', 'source', 'in', 'a', 'new', 'tab', 'i', 'think', 'that', 'the', 'experience', 'of', 'reading', 'arguman', 'would', 'be', 'improved', 'by', 'automatically', 'setting', 'links', 'to', 'sources', 'to', 'open', 'in', 'a', 'new', 'tab'], tags=['Train_1'])]"
      ]
     },
     "execution_count": 45,
     "metadata": {},
     "output_type": "execute_result"
    }
   ],
   "source": [
    "all_data[:2]\n"
   ]
  },
  {
   "cell_type": "code",
   "execution_count": 46,
   "metadata": {
    "execution": {
     "iopub.execute_input": "2020-10-11T05:29:57.098160Z",
     "iopub.status.busy": "2020-10-11T05:29:57.097244Z",
     "iopub.status.idle": "2020-10-11T06:42:03.320742Z",
     "shell.execute_reply": "2020-10-11T06:42:03.320144Z"
    },
    "papermill": {
     "duration": 4326.296727,
     "end_time": "2020-10-11T06:42:03.320873",
     "exception": false,
     "start_time": "2020-10-11T05:29:57.024146",
     "status": "completed"
    },
    "tags": []
   },
   "outputs": [
    {
     "name": "stderr",
     "output_type": "stream",
     "text": [
      "100%|██████████| 450000/450000 [00:00<00:00, 1585359.27it/s]\n",
      "100%|██████████| 450000/450000 [00:00<00:00, 1071679.63it/s]\n",
      "100%|██████████| 450000/450000 [00:00<00:00, 1507113.65it/s]\n",
      "100%|██████████| 450000/450000 [00:00<00:00, 1450601.28it/s]\n",
      "100%|██████████| 450000/450000 [00:00<00:00, 1530563.06it/s]\n",
      "100%|██████████| 450000/450000 [00:00<00:00, 1552368.85it/s]\n",
      "100%|██████████| 450000/450000 [00:00<00:00, 1510818.46it/s]\n",
      "100%|██████████| 450000/450000 [00:00<00:00, 1286527.91it/s]\n",
      "100%|██████████| 450000/450000 [00:00<00:00, 1465375.07it/s]\n",
      "100%|██████████| 450000/450000 [00:00<00:00, 1486201.13it/s]\n",
      "100%|██████████| 450000/450000 [00:00<00:00, 1533875.44it/s]\n",
      "100%|██████████| 450000/450000 [00:00<00:00, 1083395.12it/s]\n",
      "100%|██████████| 450000/450000 [00:00<00:00, 1501066.73it/s]\n",
      "100%|██████████| 450000/450000 [00:00<00:00, 1490118.94it/s]\n",
      "100%|██████████| 450000/450000 [00:00<00:00, 1476208.05it/s]\n",
      "100%|██████████| 450000/450000 [00:00<00:00, 1493802.04it/s]\n",
      "100%|██████████| 450000/450000 [00:00<00:00, 1020092.74it/s]\n",
      "100%|██████████| 450000/450000 [00:00<00:00, 1478154.92it/s]\n",
      "100%|██████████| 450000/450000 [00:00<00:00, 1514147.87it/s]\n",
      "100%|██████████| 450000/450000 [00:00<00:00, 1477265.24it/s]\n",
      "100%|██████████| 450000/450000 [00:00<00:00, 1502908.61it/s]\n",
      "100%|██████████| 450000/450000 [00:00<00:00, 1453455.37it/s]\n",
      "100%|██████████| 450000/450000 [00:00<00:00, 1489787.26it/s]\n",
      "100%|██████████| 450000/450000 [00:00<00:00, 934166.08it/s]\n",
      "100%|██████████| 450000/450000 [00:00<00:00, 1466529.60it/s]\n",
      "100%|██████████| 450000/450000 [00:00<00:00, 1040950.46it/s]\n",
      "100%|██████████| 450000/450000 [00:00<00:00, 952522.09it/s]\n",
      "100%|██████████| 450000/450000 [00:00<00:00, 1478060.00it/s]\n",
      "100%|██████████| 450000/450000 [00:00<00:00, 1458888.35it/s]\n",
      "100%|██████████| 450000/450000 [00:00<00:00, 1474989.82it/s]\n",
      "100%|██████████| 450000/450000 [00:00<00:00, 1463504.82it/s]\n"
     ]
    }
   ],
   "source": [
    "model_dbow = Doc2Vec(dm=0, vector_size=300, negative=5, min_count=1, alpha=0.065, min_alpha=0.065)\n",
    "model_dbow.build_vocab([x for x in tqdm(all_data)])\n",
    "\n",
    "for epoch in range(30):\n",
    "    model_dbow.train(utils.shuffle([x for x in tqdm(all_data)]), total_examples=len(all_data), epochs=1)\n",
    "    model_dbow.alpha -= 0.002\n",
    "    model_dbow.min_alpha = model_dbow.alpha\n",
    "\n",
    "def get_vectors(model, corpus_size, vectors_size, vectors_type):\n",
    "    \"\"\"\n",
    "    Get vectors from trained doc2vec model\n",
    "    :param doc2vec_model: Trained Doc2Vec model\n",
    "    :param corpus_size: Size of the data\n",
    "    :param vectors_size: Size of the embedding vectors\n",
    "    :param vectors_type: Training or Testing vectors\n",
    "    :return: list of vectors\n",
    "    \"\"\"\n",
    "    vectors = np.zeros((corpus_size, vectors_size))\n",
    "    for i in range(0, corpus_size):\n",
    "        prefix = vectors_type + '_' + str(i)\n",
    "        vectors[i] = model.docvecs[prefix]\n",
    "    return vectors\n",
    "    \n",
    "train_vectors_dbow = get_vectors(model_dbow, len(X_train), 300, 'Train')\n",
    "test_vectors_dbow = get_vectors(model_dbow, len(X_test), 300, 'Test')"
   ]
  },
  {
   "cell_type": "code",
   "execution_count": 47,
   "metadata": {
    "execution": {
     "iopub.execute_input": "2020-10-11T06:42:03.674384Z",
     "iopub.status.busy": "2020-10-11T06:42:03.673148Z",
     "iopub.status.idle": "2020-10-11T06:43:15.776970Z",
     "shell.execute_reply": "2020-10-11T06:43:15.777793Z"
    },
    "papermill": {
     "duration": 72.331192,
     "end_time": "2020-10-11T06:43:15.777993",
     "exception": false,
     "start_time": "2020-10-11T06:42:03.446801",
     "status": "completed"
    },
    "tags": []
   },
   "outputs": [
    {
     "name": "stdout",
     "output_type": "stream",
     "text": [
      "accuracy 0.7696666666666667\n",
      "              precision    recall  f1-score   support\n",
      "\n",
      "           0       0.78      0.81      0.80     40128\n",
      "           1       0.78      0.82      0.80     41508\n",
      "           2       0.59      0.31      0.41      8364\n",
      "\n",
      "    accuracy                           0.77     90000\n",
      "   macro avg       0.72      0.65      0.67     90000\n",
      "weighted avg       0.76      0.77      0.76     90000\n",
      "\n"
     ]
    }
   ],
   "source": [
    "# Logistic regression model trained by the doc2vec features\n",
    "\n",
    "logreg = LogisticRegression(n_jobs=1, C=1e5)\n",
    "logreg.fit(train_vectors_dbow, y_train)\n",
    "logreg = logreg.fit(train_vectors_dbow, y_train)\n",
    "y_pred = logreg.predict(test_vectors_dbow)\n",
    "print('accuracy %s' % accuracy_score(y_pred, y_test))\n",
    "print(classification_report(y_test, y_pred))"
   ]
  },
  {
   "cell_type": "code",
   "execution_count": 48,
   "metadata": {
    "execution": {
     "iopub.execute_input": "2020-10-11T06:43:16.028230Z",
     "iopub.status.busy": "2020-10-11T06:43:16.027576Z",
     "iopub.status.idle": "2020-10-11T06:43:16.034116Z",
     "shell.execute_reply": "2020-10-11T06:43:16.033593Z"
    },
    "papermill": {
     "duration": 0.134004,
     "end_time": "2020-10-11T06:43:16.034227",
     "exception": false,
     "start_time": "2020-10-11T06:43:15.900223",
     "status": "completed"
    },
    "tags": []
   },
   "outputs": [
    {
     "data": {
      "text/plain": [
       "array([[ 0.44624919,  0.28316   , -0.10672256, ...,  0.02199308,\n",
       "         0.27763182, -0.7838614 ],\n",
       "       [-0.0791866 ,  0.11450425, -0.0463245 , ..., -0.2416887 ,\n",
       "         0.21728374, -0.06831547],\n",
       "       [-0.15194777,  0.45441708,  0.61268842, ..., -0.08022036,\n",
       "        -0.36159429, -0.29890507],\n",
       "       ...,\n",
       "       [-0.11036648,  0.09730147,  0.53776002, ...,  0.39317816,\n",
       "         0.23475063, -0.07885341],\n",
       "       [ 0.00922077,  0.48410699,  0.00320934, ..., -0.11375325,\n",
       "         0.51155728, -0.13115473],\n",
       "       [-0.22555785, -0.03547252,  0.09902261, ..., -0.0538145 ,\n",
       "         0.17069574, -0.2406652 ]])"
      ]
     },
     "execution_count": 48,
     "metadata": {},
     "output_type": "execute_result"
    }
   ],
   "source": [
    "train_vectors_dbow"
   ]
  },
  {
   "cell_type": "code",
   "execution_count": 49,
   "metadata": {
    "execution": {
     "iopub.execute_input": "2020-10-11T06:43:16.285526Z",
     "iopub.status.busy": "2020-10-11T06:43:16.284882Z",
     "iopub.status.idle": "2020-10-11T06:43:16.290233Z",
     "shell.execute_reply": "2020-10-11T06:43:16.289769Z"
    },
    "papermill": {
     "duration": 0.13001,
     "end_time": "2020-10-11T06:43:16.290334",
     "exception": false,
     "start_time": "2020-10-11T06:43:16.160324",
     "status": "completed"
    },
    "tags": []
   },
   "outputs": [
    {
     "data": {
      "text/plain": [
       "30000"
      ]
     },
     "execution_count": 49,
     "metadata": {},
     "output_type": "execute_result"
    }
   ],
   "source": [
    "len(Test)"
   ]
  },
  {
   "cell_type": "code",
   "execution_count": 50,
   "metadata": {
    "execution": {
     "iopub.execute_input": "2020-10-11T06:43:16.576881Z",
     "iopub.status.busy": "2020-10-11T06:43:16.571852Z",
     "iopub.status.idle": "2020-10-11T06:43:16.982939Z",
     "shell.execute_reply": "2020-10-11T06:43:16.982346Z"
    },
    "papermill": {
     "duration": 0.571782,
     "end_time": "2020-10-11T06:43:16.983058",
     "exception": false,
     "start_time": "2020-10-11T06:43:16.411276",
     "status": "completed"
    },
    "tags": []
   },
   "outputs": [],
   "source": [
    "Test = label_sentences(Test, 'Test')\n",
    "\n",
    "Test_dbow = get_vectors(model_dbow, len(Test), 300, 'Test')\n"
   ]
  },
  {
   "cell_type": "code",
   "execution_count": 51,
   "metadata": {
    "execution": {
     "iopub.execute_input": "2020-10-11T06:43:17.242604Z",
     "iopub.status.busy": "2020-10-11T06:43:17.241770Z",
     "iopub.status.idle": "2020-10-11T06:43:17.245674Z",
     "shell.execute_reply": "2020-10-11T06:43:17.246225Z"
    },
    "papermill": {
     "duration": 0.140938,
     "end_time": "2020-10-11T06:43:17.246379",
     "exception": false,
     "start_time": "2020-10-11T06:43:17.105441",
     "status": "completed"
    },
    "tags": []
   },
   "outputs": [
    {
     "data": {
      "text/plain": [
       "array([[-0.11767069, -0.25693765,  0.18021508, ..., -0.51552051,\n",
       "         0.01954115, -0.03321165],\n",
       "       [-0.09409086,  0.15138552, -0.18897943, ..., -0.07337975,\n",
       "        -0.06803775, -0.40229574],\n",
       "       [-0.54358262,  0.66208798, -0.47347999, ...,  0.1497861 ,\n",
       "        -0.16689216, -0.24953215],\n",
       "       ...,\n",
       "       [-0.3316642 ,  0.20628715,  0.2378955 , ..., -0.12285944,\n",
       "         0.30971965, -0.30430889],\n",
       "       [-0.31956863, -0.16468799,  0.39527196, ..., -0.02789675,\n",
       "         0.52428299,  0.15238157],\n",
       "       [-0.21092191,  0.50832725,  0.38398412, ..., -0.60344386,\n",
       "         0.1506087 , -0.42205134]])"
      ]
     },
     "execution_count": 51,
     "metadata": {},
     "output_type": "execute_result"
    }
   ],
   "source": [
    "Test_dbow"
   ]
  },
  {
   "cell_type": "code",
   "execution_count": 52,
   "metadata": {
    "execution": {
     "iopub.execute_input": "2020-10-11T06:43:17.535299Z",
     "iopub.status.busy": "2020-10-11T06:43:17.534202Z",
     "iopub.status.idle": "2020-10-11T06:43:17.555114Z",
     "shell.execute_reply": "2020-10-11T06:43:17.554633Z"
    },
    "papermill": {
     "duration": 0.183743,
     "end_time": "2020-10-11T06:43:17.555217",
     "exception": false,
     "start_time": "2020-10-11T06:43:17.371474",
     "status": "completed"
    },
    "tags": []
   },
   "outputs": [],
   "source": [
    "prediction_logreg2 = logreg.predict(Test_dbow)"
   ]
  },
  {
   "cell_type": "code",
   "execution_count": 53,
   "metadata": {
    "execution": {
     "iopub.execute_input": "2020-10-11T06:43:17.807089Z",
     "iopub.status.busy": "2020-10-11T06:43:17.805226Z",
     "iopub.status.idle": "2020-10-11T06:43:17.807754Z",
     "shell.execute_reply": "2020-10-11T06:43:17.808211Z"
    },
    "papermill": {
     "duration": 0.130247,
     "end_time": "2020-10-11T06:43:17.808327",
     "exception": false,
     "start_time": "2020-10-11T06:43:17.678080",
     "status": "completed"
    },
    "tags": []
   },
   "outputs": [],
   "source": [
    "prediction_logreg2 = pd.DataFrame(prediction_logreg2)"
   ]
  },
  {
   "cell_type": "code",
   "execution_count": 54,
   "metadata": {
    "execution": {
     "iopub.execute_input": "2020-10-11T06:43:18.061441Z",
     "iopub.status.busy": "2020-10-11T06:43:18.060696Z",
     "iopub.status.idle": "2020-10-11T06:43:18.064222Z",
     "shell.execute_reply": "2020-10-11T06:43:18.064712Z"
    },
    "papermill": {
     "duration": 0.133858,
     "end_time": "2020-10-11T06:43:18.064835",
     "exception": false,
     "start_time": "2020-10-11T06:43:17.930977",
     "status": "completed"
    },
    "tags": []
   },
   "outputs": [
    {
     "data": {
      "text/html": [
       "<div>\n",
       "<style scoped>\n",
       "    .dataframe tbody tr th:only-of-type {\n",
       "        vertical-align: middle;\n",
       "    }\n",
       "\n",
       "    .dataframe tbody tr th {\n",
       "        vertical-align: top;\n",
       "    }\n",
       "\n",
       "    .dataframe thead th {\n",
       "        text-align: right;\n",
       "    }\n",
       "</style>\n",
       "<table border=\"1\" class=\"dataframe\">\n",
       "  <thead>\n",
       "    <tr style=\"text-align: right;\">\n",
       "      <th></th>\n",
       "      <th>0</th>\n",
       "    </tr>\n",
       "  </thead>\n",
       "  <tbody>\n",
       "    <tr>\n",
       "      <th>0</th>\n",
       "      <td>0</td>\n",
       "    </tr>\n",
       "    <tr>\n",
       "      <th>1</th>\n",
       "      <td>0</td>\n",
       "    </tr>\n",
       "    <tr>\n",
       "      <th>2</th>\n",
       "      <td>0</td>\n",
       "    </tr>\n",
       "    <tr>\n",
       "      <th>3</th>\n",
       "      <td>1</td>\n",
       "    </tr>\n",
       "    <tr>\n",
       "      <th>4</th>\n",
       "      <td>0</td>\n",
       "    </tr>\n",
       "  </tbody>\n",
       "</table>\n",
       "</div>"
      ],
      "text/plain": [
       "   0\n",
       "0  0\n",
       "1  0\n",
       "2  0\n",
       "3  1\n",
       "4  0"
      ]
     },
     "execution_count": 54,
     "metadata": {},
     "output_type": "execute_result"
    }
   ],
   "source": [
    "prediction_logreg2.head()"
   ]
  },
  {
   "cell_type": "code",
   "execution_count": 55,
   "metadata": {
    "execution": {
     "iopub.execute_input": "2020-10-11T06:43:18.313609Z",
     "iopub.status.busy": "2020-10-11T06:43:18.312994Z",
     "iopub.status.idle": "2020-10-11T06:43:18.364237Z",
     "shell.execute_reply": "2020-10-11T06:43:18.363459Z"
    },
    "papermill": {
     "duration": 0.177026,
     "end_time": "2020-10-11T06:43:18.364339",
     "exception": false,
     "start_time": "2020-10-11T06:43:18.187313",
     "status": "completed"
    },
    "tags": []
   },
   "outputs": [],
   "source": [
    "prediction_logreg.to_csv('pred1.csv',index=False)"
   ]
  },
  {
   "cell_type": "code",
   "execution_count": 56,
   "metadata": {
    "execution": {
     "iopub.execute_input": "2020-10-11T06:43:18.616605Z",
     "iopub.status.busy": "2020-10-11T06:43:18.615797Z",
     "iopub.status.idle": "2020-10-11T06:43:18.660612Z",
     "shell.execute_reply": "2020-10-11T06:43:18.660098Z"
    },
    "papermill": {
     "duration": 0.172475,
     "end_time": "2020-10-11T06:43:18.660720",
     "exception": false,
     "start_time": "2020-10-11T06:43:18.488245",
     "status": "completed"
    },
    "tags": []
   },
   "outputs": [],
   "source": [
    "prediction_logreg2.to_csv('pred2.csv',index=False)"
   ]
  }
 ],
 "metadata": {
  "kernelspec": {
   "display_name": "Python 3",
   "language": "python",
   "name": "python3"
  },
  "language_info": {
   "codemirror_mode": {
    "name": "ipython",
    "version": 3
   },
   "file_extension": ".py",
   "mimetype": "text/x-python",
   "name": "python",
   "nbconvert_exporter": "python",
   "pygments_lexer": "ipython3",
   "version": "3.7.6"
  },
  "papermill": {
   "duration": 4954.448205,
   "end_time": "2020-10-11T06:43:19.313899",
   "environment_variables": {},
   "exception": null,
   "input_path": "__notebook__.ipynb",
   "output_path": "__notebook__.ipynb",
   "parameters": {},
   "start_time": "2020-10-11T05:20:44.865694",
   "version": "2.1.0"
  }
 },
 "nbformat": 4,
 "nbformat_minor": 4
}
